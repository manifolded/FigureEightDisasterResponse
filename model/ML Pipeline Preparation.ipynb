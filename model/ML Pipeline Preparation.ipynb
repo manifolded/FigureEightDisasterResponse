{
 "cells": [
  {
   "cell_type": "markdown",
   "metadata": {},
   "source": [
    "# ML Pipeline Preparation\n",
    "Follow the instructions below to help you create your ML pipeline.\n",
    "### 1. Import libraries and load data from database.\n",
    "- Import Python libraries\n",
    "- Load dataset from database with [`read_sql_table`](https://pandas.pydata.org/pandas-docs/stable/generated/pandas.read_sql_table.html)\n",
    "- Define feature and target variables X and Y"
   ]
  },
  {
   "cell_type": "code",
   "execution_count": 7,
   "metadata": {},
   "outputs": [],
   "source": [
    "# import libraries\n",
    "import pandas as pd\n",
    "import numpy as np\n",
    "import sqlalchemy as sqal\n",
    "from sklearn.model_selection import train_test_split"
   ]
  },
  {
   "cell_type": "code",
   "execution_count": 8,
   "metadata": {},
   "outputs": [],
   "source": [
    "X_columns = 'message'\n",
    "cat_col_names = ['related', 'request', 'offer', 'aid_related', 'medical_help', 'medical_products', 'search_and_rescue', 'security', 'military', 'child_alone', 'water', 'food', 'shelter', 'clothing', 'money', 'missing_people', 'refugees', 'death', 'other_aid', 'infrastructure_related', 'transport', 'buildings', 'electricity', 'tools', 'hospitals', 'shops', 'aid_centers', 'other_infrastructure', 'weather_related', 'floods', 'storm', 'fire', 'earthquake', 'cold', 'other_weather', 'direct_report']"
   ]
  },
  {
   "cell_type": "code",
   "execution_count": 9,
   "metadata": {},
   "outputs": [],
   "source": [
    "# load data from database\n",
    "engine = sqal.create_engine('sqlite:///DisasterResponse.db')\n",
    "# inspector = sqal.inspect(engine)\n",
    "# inspector.get_schema_names()  # -> ['main']\n",
    "# inspector.get_table_names(schema='main')  # -> ['Message']\n",
    "# inspector.get_columns('Message', schema='main')   # -> the goods\n",
    "\n",
    "df = pd.read_sql_table('Message', engine)"
   ]
  },
  {
   "cell_type": "code",
   "execution_count": 10,
   "metadata": {},
   "outputs": [],
   "source": [
    "# correct outlying values in `related` column\n",
    "df['related'] = np.clip(df['related'], 0, 1)"
   ]
  },
  {
   "cell_type": "code",
   "execution_count": 11,
   "metadata": {},
   "outputs": [],
   "source": [
    "text = df[X_columns].values\n",
    "y = df[cat_col_names].values"
   ]
  },
  {
   "cell_type": "code",
   "execution_count": 12,
   "metadata": {},
   "outputs": [],
   "source": [
    "text_train, text_test, y_train, y_test = train_test_split(text, y, test_size=0.33, random_state=42)"
   ]
  },
  {
   "cell_type": "markdown",
   "metadata": {},
   "source": [
    "### 2. Write a tokenization function to process your text data"
   ]
  },
  {
   "cell_type": "code",
   "execution_count": null,
   "metadata": {},
   "outputs": [],
   "source": [
    "import spacy\n",
    "en_nlp = spacy.load('en')"
   ]
  },
  {
   "cell_type": "code",
   "execution_count": null,
   "metadata": {},
   "outputs": [],
   "source": [
    "stopwords = spacy.lang.en.stop_words.STOP_WORDS"
   ]
  },
  {
   "cell_type": "code",
   "execution_count": null,
   "metadata": {},
   "outputs": [],
   "source": [
    "from nltk.stem.snowball import SnowballStemmer\n",
    "stemmer = SnowballStemmer('english')"
   ]
  },
  {
   "cell_type": "code",
   "execution_count": null,
   "metadata": {},
   "outputs": [],
   "source": [
    "# https://realpython.com/natural-language-processing-spacy-python/ was helpful here\n",
    "def tokenize(text):\n",
    "    doc = en_nlp(text)\n",
    "    lemmas = [token.lemma_ for token in doc if token not in stopwords and not token.is_punct]\n",
    "    stems = [stemmer.stem(lemma) for lemma in lemmas]\n",
    "    return stems"
   ]
  },
  {
   "cell_type": "markdown",
   "metadata": {},
   "source": [
    "### 3. Build a machine learning pipeline\n",
    "This machine pipeline should take in the `message` column as input and output classification results on the other 36 categories in the dataset. You may find the [MultiOutputClassifier](http://scikit-learn.org/stable/modules/generated/sklearn.multioutput.MultiOutputClassifier.html) helpful for predicting multiple target variables."
   ]
  },
  {
   "cell_type": "code",
   "execution_count": 13,
   "metadata": {},
   "outputs": [],
   "source": [
    "from sklearn.feature_extraction.text import TfidfVectorizer\n",
    "from sklearn.multioutput import MultiOutputClassifier\n",
    "from sklearn.ensemble import RandomForestClassifier\n",
    "from sklearn.pipeline import make_pipeline"
   ]
  },
  {
   "cell_type": "code",
   "execution_count": null,
   "metadata": {},
   "outputs": [],
   "source": [
    "pipe = make_pipeline(TfidfVectorizer(tokenizer=tokenize, min_df=5), \n",
    "                    MultiOutputClassifier(estimator=RandomForestClassifier(n_jobs=-1)))"
   ]
  },
  {
   "cell_type": "markdown",
   "metadata": {},
   "source": [
    "### 4. Train pipeline\n",
    "- Split data into train and test sets\n",
    "- Train pipeline"
   ]
  },
  {
   "cell_type": "code",
   "execution_count": null,
   "metadata": {},
   "outputs": [],
   "source": [
    "%%time\n",
    "pipe.fit(text_train, y_train)"
   ]
  },
  {
   "cell_type": "code",
   "execution_count": null,
   "metadata": {},
   "outputs": [],
   "source": [
    "# compute rigged score\n",
    "pipe.score(text_train, y_train)"
   ]
  },
  {
   "cell_type": "code",
   "execution_count": null,
   "metadata": {},
   "outputs": [],
   "source": [
    "# compute real score\n",
    "pipe.score(text_test, y_test)"
   ]
  },
  {
   "cell_type": "markdown",
   "metadata": {},
   "source": [
    "Massively overfit with a test value of only 0.278, but a training value of 0.991."
   ]
  },
  {
   "cell_type": "markdown",
   "metadata": {},
   "source": [
    "### 5. Test your model\n",
    "Report the f1 score, precision and recall for each output category of the dataset. You can do this by iterating through the columns and calling sklearn's `classification_report` on each."
   ]
  },
  {
   "cell_type": "code",
   "execution_count": null,
   "metadata": {},
   "outputs": [],
   "source": [
    "from sklearn.metrics import classification_report"
   ]
  },
  {
   "cell_type": "code",
   "execution_count": null,
   "metadata": {},
   "outputs": [],
   "source": [
    "%%time\n",
    "y_pred = pipe.predict(text_test)"
   ]
  },
  {
   "cell_type": "code",
   "execution_count": null,
   "metadata": {},
   "outputs": [],
   "source": [
    "print(classification_report(y_test, y_pred, target_names=cat_col_names))"
   ]
  },
  {
   "cell_type": "markdown",
   "metadata": {},
   "source": [
    "### 6. Improve your model"
   ]
  },
  {
   "cell_type": "markdown",
   "metadata": {},
   "source": [
    "####  Let's split the `Vectorizer` out of the pipeline, precompute it on the training and test sets, and write the results to disk. \n",
    "Parameter searching is a slow business and we want to speed things up as much as we can."
   ]
  },
  {
   "cell_type": "code",
   "execution_count": null,
   "metadata": {},
   "outputs": [],
   "source": [
    "vect = TfidfVectorizer(tokenizer=tokenize, min_df=5)"
   ]
  },
  {
   "cell_type": "code",
   "execution_count": null,
   "metadata": {},
   "outputs": [],
   "source": [
    "%%time\n",
    "# Pre-calculate X_train and X_test for testing the categorization pipeline - takes 5 minutes to calculate\n",
    "X_train1 = vect.fit_transform(text_train)\n",
    "X_test1 = vect.transform(text_test)"
   ]
  },
  {
   "cell_type": "code",
   "execution_count": null,
   "metadata": {},
   "outputs": [],
   "source": [
    "X_train1.shape"
   ]
  },
  {
   "cell_type": "code",
   "execution_count": 2,
   "metadata": {},
   "outputs": [],
   "source": [
    "# https://stackoverflow.com/questions/52444921/save-numpy-array-using-pickle\n",
    "import pickle as pkl"
   ]
  },
  {
   "cell_type": "code",
   "execution_count": null,
   "metadata": {},
   "outputs": [],
   "source": [
    "fileObject = open('severedPipelineXtrain.pkl', 'wb')\n",
    "pkl.dump(X_train1, fileObject)\n",
    "fileObject.close()\n",
    "\n",
    "fileObject = open('severedPipelineXtest.pkl', 'wb')\n",
    "pkl.dump(X_test1, fileObject)\n",
    "fileObject.close()"
   ]
  },
  {
   "cell_type": "code",
   "execution_count": 3,
   "metadata": {},
   "outputs": [],
   "source": [
    "fileObject = open('severedPipelineXtrain.pkl', 'rb')\n",
    "X_train = pkl.load(fileObject)\n",
    "fileObject.close()\n",
    "\n",
    "fileObject = open('severedPipelineXtest.pkl', 'rb')\n",
    "X_test = pkl.load(fileObject)\n",
    "fileObject.close()"
   ]
  },
  {
   "cell_type": "code",
   "execution_count": 4,
   "metadata": {},
   "outputs": [
    {
     "data": {
      "text/plain": [
       "scipy.sparse.csr.csr_matrix"
      ]
     },
     "execution_count": 4,
     "metadata": {},
     "output_type": "execute_result"
    }
   ],
   "source": [
    "type(X_train)"
   ]
  },
  {
   "cell_type": "code",
   "execution_count": 5,
   "metadata": {},
   "outputs": [
    {
     "data": {
      "text/plain": [
       "(17564, 4859)"
      ]
     },
     "execution_count": 5,
     "metadata": {},
     "output_type": "execute_result"
    }
   ],
   "source": [
    "X_train.shape"
   ]
  },
  {
   "cell_type": "code",
   "execution_count": 6,
   "metadata": {},
   "outputs": [
    {
     "data": {
      "text/plain": [
       "(8652, 4859)"
      ]
     },
     "execution_count": 6,
     "metadata": {},
     "output_type": "execute_result"
    }
   ],
   "source": [
    "X_test.shape"
   ]
  },
  {
   "cell_type": "markdown",
   "metadata": {},
   "source": [
    "#### Alright.  Back to work.  Let's actually evaluate a non-Tfidf pipeline."
   ]
  },
  {
   "cell_type": "code",
   "execution_count": 29,
   "metadata": {},
   "outputs": [],
   "source": [
    "from sklearn.ensemble import AdaBoostClassifier"
   ]
  },
  {
   "cell_type": "code",
   "execution_count": 14,
   "metadata": {},
   "outputs": [],
   "source": [
    "pipe = make_pipeline(MultiOutputClassifier(estimator=\n",
    "                                           RandomForestClassifier(n_jobs=-1)))\n",
    "#                                           AdaBoostClassifier()))"
   ]
  },
  {
   "cell_type": "code",
   "execution_count": 15,
   "metadata": {},
   "outputs": [
    {
     "name": "stdout",
     "output_type": "stream",
     "text": [
      "CPU times: user 8.95 s, sys: 3.48 s, total: 12.4 s\n",
      "Wall time: 2min 57s\n"
     ]
    },
    {
     "data": {
      "text/plain": [
       "Pipeline(steps=[('multioutputclassifier',\n",
       "                 MultiOutputClassifier(estimator=RandomForestClassifier(n_jobs=-1)))])"
      ]
     },
     "execution_count": 15,
     "metadata": {},
     "output_type": "execute_result"
    }
   ],
   "source": [
    "%%time\n",
    "pipe.fit(X_train, y_train)"
   ]
  },
  {
   "cell_type": "code",
   "execution_count": 16,
   "metadata": {},
   "outputs": [
    {
     "name": "stdout",
     "output_type": "stream",
     "text": [
      "0.255663430420712\n",
      "0.995445228877249\n"
     ]
    }
   ],
   "source": [
    "print(pipe.score(X_test, y_test))\n",
    "print(pipe.score(X_train, y_train))"
   ]
  },
  {
   "cell_type": "markdown",
   "metadata": {},
   "source": [
    "At least it's not overfitting with `AdaBoostClassifier`, like it does with `RandomForestClassifier` (0.256, 0.995)."
   ]
  },
  {
   "cell_type": "code",
   "execution_count": 17,
   "metadata": {},
   "outputs": [
    {
     "name": "stdout",
     "output_type": "stream",
     "text": [
      "CPU times: user 18.9 s, sys: 441 ms, total: 19.3 s\n",
      "Wall time: 5.9 s\n"
     ]
    }
   ],
   "source": [
    "%%time\n",
    "y_pred = pipe.predict(X_test)"
   ]
  },
  {
   "cell_type": "code",
   "execution_count": 18,
   "metadata": {},
   "outputs": [],
   "source": [
    "from sklearn.metrics import classification_report"
   ]
  },
  {
   "cell_type": "code",
   "execution_count": 19,
   "metadata": {},
   "outputs": [
    {
     "name": "stdout",
     "output_type": "stream",
     "text": [
      "                        precision    recall  f1-score   support\n",
      "\n",
      "               related       0.81      0.97      0.88      6598\n",
      "               request       0.89      0.45      0.60      1472\n",
      "                 offer       1.00      0.00      0.00        38\n",
      "           aid_related       0.74      0.67      0.71      3545\n",
      "          medical_help       0.67      0.08      0.14       701\n",
      "      medical_products       0.78      0.09      0.17       446\n",
      "     search_and_rescue       0.69      0.05      0.09       226\n",
      "              security       0.00      0.00      0.00       160\n",
      "              military       0.60      0.08      0.14       267\n",
      "           child_alone       1.00      1.00      1.00         0\n",
      "                 water       0.87      0.37      0.52       543\n",
      "                  food       0.86      0.61      0.71       965\n",
      "               shelter       0.81      0.42      0.55       775\n",
      "              clothing       0.81      0.10      0.18       127\n",
      "                 money       0.57      0.02      0.04       191\n",
      "        missing_people       1.00      0.03      0.06       104\n",
      "              refugees       0.71      0.03      0.07       293\n",
      "                 death       0.86      0.16      0.27       406\n",
      "             other_aid       0.63      0.03      0.05      1139\n",
      "infrastructure_related       0.00      0.00      0.00       568\n",
      "             transport       0.73      0.07      0.13       407\n",
      "             buildings       0.82      0.12      0.22       441\n",
      "           electricity       0.90      0.05      0.09       185\n",
      "                 tools       1.00      0.00      0.00        53\n",
      "             hospitals       0.00      0.00      0.00        85\n",
      "                 shops       1.00      0.00      0.00        34\n",
      "           aid_centers       1.00      0.00      0.00       115\n",
      "  other_infrastructure       1.00      0.00      0.00       383\n",
      "       weather_related       0.84      0.71      0.77      2390\n",
      "                floods       0.89      0.53      0.67       693\n",
      "                 storm       0.74      0.61      0.67       812\n",
      "                  fire       0.50      0.01      0.02        90\n",
      "            earthquake       0.88      0.81      0.84       787\n",
      "                  cold       0.79      0.12      0.21       187\n",
      "         other_weather       0.58      0.02      0.03       452\n",
      "         direct_report       0.83      0.33      0.48      1694\n",
      "\n",
      "             micro avg       0.81      0.54      0.64     27372\n",
      "             macro avg       0.75      0.24      0.29     27372\n",
      "          weighted avg       0.77      0.54      0.57     27372\n",
      "           samples avg       0.77      0.73      0.59     27372\n",
      "\n"
     ]
    }
   ],
   "source": [
    "print(classification_report(y_test, y_pred, target_names=cat_col_names, zero_division=1))"
   ]
  },
  {
   "cell_type": "markdown",
   "metadata": {},
   "source": [
    "#### Let's do some parameter searching..."
   ]
  },
  {
   "cell_type": "markdown",
   "metadata": {},
   "source": [
    "Use grid search to find better parameters. "
   ]
  },
  {
   "cell_type": "code",
   "execution_count": 57,
   "metadata": {},
   "outputs": [],
   "source": [
    "from sklearn.linear_model import LogisticRegression\n",
    "from sklearn.tree import DecisionTreeClassifier"
   ]
  },
  {
   "cell_type": "code",
   "execution_count": 58,
   "metadata": {},
   "outputs": [],
   "source": [
    "pipe = make_pipeline(MultiOutputClassifier(estimator=\n",
    "#                                           RandomForestClassifier(n_jobs=-1)))  # This takes almost 11 minutes\n",
    "                                           AdaBoostClassifier(base_estimator=\n",
    "                                                              DecisionTreeClassifier(max_depth=1),\n",
    "                                               n_estimators=10, learning_rate=1))) # 1 minute\n",
    "#                                           LogisticRegression(C=3, max_iter=30, warm_start=True))) \n",
    "#                                                              solver='saga', penalty='elasticnet')))\n",
    "                                                              # class_weight='balanced')))"
   ]
  },
  {
   "cell_type": "code",
   "execution_count": 31,
   "metadata": {},
   "outputs": [],
   "source": [
    "from sklearn.model_selection import GridSearchCV"
   ]
  },
  {
   "cell_type": "code",
   "execution_count": 66,
   "metadata": {},
   "outputs": [],
   "source": [
    "# param_grid = {}\n",
    "# param_grid = {'multioutputclassifier__estimator__n_estimators': [10, 30, 100]} \n",
    "# param_grid = {'multioutputclassifier__estimator__learning_rate': [0.3, 1.0, 3.0]}\n",
    "# param_grid = {'multioutputclassifier__estimator__C': [3.0, 10.0, 30.0]}\n",
    "# param_grid = {'multioutputclassifier__estimator__l1_ratio': [0.1, 0.3, 0.7, 1.0]}\n",
    "#param_grid = {'multioutputclassifier__estimator__base_estimator__min_samples_split': [2, 4, 8, 16]}\n",
    "param_grid = {'multioutputclassifier__estimator__base_estimator__min_samples_leaf': [1, 2, 4, 8]}"
   ]
  },
  {
   "cell_type": "code",
   "execution_count": 67,
   "metadata": {},
   "outputs": [],
   "source": [
    "grid = GridSearchCV(estimator=pipe, param_grid=param_grid, cv=5, n_jobs=-1)"
   ]
  },
  {
   "cell_type": "code",
   "execution_count": 68,
   "metadata": {},
   "outputs": [
    {
     "data": {
      "text/plain": [
       "DecisionTreeClassifier(max_depth=1)"
      ]
     },
     "execution_count": 68,
     "metadata": {},
     "output_type": "execute_result"
    }
   ],
   "source": [
    "grid.estimator['multioutputclassifier'].estimator.base_estimator"
   ]
  },
  {
   "cell_type": "code",
   "execution_count": 69,
   "metadata": {},
   "outputs": [
    {
     "name": "stdout",
     "output_type": "stream",
     "text": [
      "CPU times: user 16 s, sys: 173 ms, total: 16.1 s\n",
      "Wall time: 2min 17s\n"
     ]
    },
    {
     "data": {
      "text/plain": [
       "GridSearchCV(cv=5,\n",
       "             estimator=Pipeline(steps=[('multioutputclassifier',\n",
       "                                        MultiOutputClassifier(estimator=AdaBoostClassifier(base_estimator=DecisionTreeClassifier(max_depth=1),\n",
       "                                                                                           learning_rate=1,\n",
       "                                                                                           n_estimators=10)))]),\n",
       "             n_jobs=-1,\n",
       "             param_grid={'multioutputclassifier__estimator__base_estimator__min_samples_leaf': [1,\n",
       "                                                                                                2,\n",
       "                                                                                                4,\n",
       "                                                                                                8]})"
      ]
     },
     "execution_count": 69,
     "metadata": {},
     "output_type": "execute_result"
    }
   ],
   "source": [
    "%%time\n",
    "grid.fit(X_train, y_train)"
   ]
  },
  {
   "cell_type": "markdown",
   "metadata": {},
   "source": [
    "25min for miniscule benefit - LR with saga not worth pursuing.  (Although the highest score fit (l1_ratio = 0.7) was only 1/3 the duration of the most expensive.  Could be because of the warm_start setting.)"
   ]
  },
  {
   "cell_type": "markdown",
   "metadata": {},
   "source": [
    "For the DecisionTreeClassifier, the default value of `min_samples_split` of 2 is the best, but the effect is very weak. [2,4,8,16]"
   ]
  },
  {
   "cell_type": "markdown",
   "metadata": {},
   "source": [
    "Equilvalently, for DTC, the default value of `min_samples_leaf` was best, and varying it made no difference. [1,2,4,8]"
   ]
  },
  {
   "cell_type": "code",
   "execution_count": 70,
   "metadata": {},
   "outputs": [
    {
     "data": {
      "text/plain": [
       "{'multioutputclassifier__estimator__base_estimator__min_samples_leaf': 1}"
      ]
     },
     "execution_count": 70,
     "metadata": {},
     "output_type": "execute_result"
    }
   ],
   "source": [
    "grid.best_params_"
   ]
  },
  {
   "cell_type": "code",
   "execution_count": 71,
   "metadata": {},
   "outputs": [
    {
     "data": {
      "text/plain": [
       "0.2313832708579328"
      ]
     },
     "execution_count": 71,
     "metadata": {},
     "output_type": "execute_result"
    }
   ],
   "source": [
    "grid.best_score_"
   ]
  },
  {
   "cell_type": "code",
   "execution_count": 72,
   "metadata": {},
   "outputs": [
    {
     "data": {
      "text/plain": [
       "{'mean_fit_time': array([22.64364576, 23.66649714, 23.90333767, 23.53951702]),\n",
       " 'std_fit_time': array([0.52024917, 0.06392807, 0.55559242, 0.2904497 ]),\n",
       " 'mean_score_time': array([0.70242825, 0.74180546, 0.76285634, 0.71053576]),\n",
       " 'std_score_time': array([0.01740296, 0.0301284 , 0.04568998, 0.09593173]),\n",
       " 'param_multioutputclassifier__estimator__base_estimator__min_samples_leaf': masked_array(data=[1, 2, 4, 8],\n",
       "              mask=[False, False, False, False],\n",
       "        fill_value='?',\n",
       "             dtype=object),\n",
       " 'params': [{'multioutputclassifier__estimator__base_estimator__min_samples_leaf': 1},\n",
       "  {'multioutputclassifier__estimator__base_estimator__min_samples_leaf': 2},\n",
       "  {'multioutputclassifier__estimator__base_estimator__min_samples_leaf': 4},\n",
       "  {'multioutputclassifier__estimator__base_estimator__min_samples_leaf': 8}],\n",
       " 'split0_test_score': array([0.23284942, 0.23284942, 0.23284942, 0.23256476]),\n",
       " 'split1_test_score': array([0.21434671, 0.21434671, 0.21434671, 0.21434671]),\n",
       " 'split2_test_score': array([0.23313407, 0.23313407, 0.23313407, 0.23256476]),\n",
       " 'split3_test_score': array([0.22943353, 0.22943353, 0.22943353, 0.22943353]),\n",
       " 'split4_test_score': array([0.24715262, 0.24715262, 0.24715262, 0.24686788]),\n",
       " 'mean_test_score': array([0.23138327, 0.23138327, 0.23138327, 0.23115553]),\n",
       " 'std_test_score': array([0.01046836, 0.01046836, 0.01046836, 0.01035714]),\n",
       " 'rank_test_score': array([1, 1, 1, 4], dtype=int32)}"
      ]
     },
     "execution_count": 72,
     "metadata": {},
     "output_type": "execute_result"
    }
   ],
   "source": [
    "grid.cv_results_"
   ]
  },
  {
   "cell_type": "code",
   "execution_count": 44,
   "metadata": {},
   "outputs": [],
   "source": [
    "grid.estimator.named_steps['multioutputclassifier'].estimator.base_estimator"
   ]
  },
  {
   "cell_type": "code",
   "execution_count": null,
   "metadata": {},
   "outputs": [],
   "source": [
    "parameters = \n",
    "\n",
    "cv = "
   ]
  },
  {
   "cell_type": "markdown",
   "metadata": {},
   "source": [
    "### 7. Test your model\n",
    "Show the accuracy, precision, and recall of the tuned model.  \n",
    "\n",
    "Since this project focuses on code quality, process, and  pipelines, there is no minimum performance metric needed to pass. However, make sure to fine tune your models for accuracy, precision and recall to make your project stand out - especially for your portfolio!"
   ]
  },
  {
   "cell_type": "code",
   "execution_count": null,
   "metadata": {},
   "outputs": [],
   "source": []
  },
  {
   "cell_type": "markdown",
   "metadata": {},
   "source": [
    "### 8. Try improving your model further. Here are a few ideas:\n",
    "* try other machine learning algorithms\n",
    "* add other features besides the TF-IDF"
   ]
  },
  {
   "cell_type": "code",
   "execution_count": null,
   "metadata": {},
   "outputs": [],
   "source": []
  },
  {
   "cell_type": "markdown",
   "metadata": {},
   "source": [
    "### 9. Export your model as a pickle file"
   ]
  },
  {
   "cell_type": "code",
   "execution_count": null,
   "metadata": {},
   "outputs": [],
   "source": []
  },
  {
   "cell_type": "markdown",
   "metadata": {},
   "source": [
    "### 10. Use this notebook to complete `train.py`\n",
    "Use the template file attached in the Resources folder to write a script that runs the steps above to create a database and export a model based on a new dataset specified by the user."
   ]
  },
  {
   "cell_type": "code",
   "execution_count": null,
   "metadata": {},
   "outputs": [],
   "source": []
  }
 ],
 "metadata": {
  "kernelspec": {
   "display_name": "Python 3",
   "language": "python",
   "name": "python3"
  },
  "language_info": {
   "codemirror_mode": {
    "name": "ipython",
    "version": 3
   },
   "file_extension": ".py",
   "mimetype": "text/x-python",
   "name": "python",
   "nbconvert_exporter": "python",
   "pygments_lexer": "ipython3",
   "version": "3.8.5"
  }
 },
 "nbformat": 4,
 "nbformat_minor": 2
}
