{
 "cells": [
  {
   "cell_type": "markdown",
   "metadata": {},
   "source": [
    "# ML Pipeline Preparation\n",
    "Follow the instructions below to help you create your ML pipeline.\n",
    "### 1. Import libraries and load data from database.\n",
    "- Import Python libraries\n",
    "- Load dataset from database with [`read_sql_table`](https://pandas.pydata.org/pandas-docs/stable/generated/pandas.read_sql_table.html)\n",
    "- Define feature and target variables X and Y"
   ]
  },
  {
   "cell_type": "code",
   "execution_count": 1,
   "metadata": {},
   "outputs": [],
   "source": [
    "# import libraries\n",
    "import pandas as pd\n",
    "import numpy as np\n",
    "import sqlalchemy as sqal\n",
    "from sklearn.model_selection import train_test_split"
   ]
  },
  {
   "cell_type": "code",
   "execution_count": 2,
   "metadata": {},
   "outputs": [],
   "source": [
    "# in_columns = 'message'\n",
    "# cat_col_names = ['related', 'request', 'offer', 'aid_related', 'medical_help', 'medical_products', 'search_and_rescue', 'security', 'military', 'child_alone', 'water', 'food', 'shelter', 'clothing', 'money', 'missing_people', 'refugees', 'death', 'other_aid', 'infrastructure_related', 'transport', 'buildings', 'electricity', 'tools', 'hospitals', 'shops', 'aid_centers', 'other_infrastructure', 'weather_related', 'floods', 'storm', 'fire', 'earthquake', 'cold', 'other_weather', 'direct_report']"
   ]
  },
  {
   "cell_type": "code",
   "execution_count": 3,
   "metadata": {},
   "outputs": [],
   "source": [
    "# load data from database\n",
    "engine = sqal.create_engine('sqlite:///../data/DisasterResponse.db')\n",
    "# inspector = sqal.inspect(engine)\n",
    "# inspector.get_schema_names()  # -> ['main']\n",
    "# inspector.get_table_names(schema='main')  # -> ['Message']\n",
    "# inspector.get_columns('Message', schema='main')   # -> the goods\n",
    "\n",
    "df = pd.read_sql_table('MessageCategorization', engine)"
   ]
  },
  {
   "cell_type": "code",
   "execution_count": 99,
   "metadata": {},
   "outputs": [],
   "source": [
    "# correct outlying values in `related` column\n",
    "df['related'] = np.clip(df['related'], 0, 1)"
   ]
  },
  {
   "cell_type": "code",
   "execution_count": 101,
   "metadata": {},
   "outputs": [],
   "source": [
    "df = df.drop('child_alone', axis=1)"
   ]
  },
  {
   "cell_type": "code",
   "execution_count": 102,
   "metadata": {},
   "outputs": [
    {
     "data": {
      "text/plain": [
       "Index(['id', 'message', 'original', 'genre', 'related', 'request', 'offer',\n",
       "       'aid_related', 'medical_help', 'medical_products', 'search_and_rescue',\n",
       "       'security', 'military', 'water', 'food', 'shelter', 'clothing', 'money',\n",
       "       'missing_people', 'refugees', 'death', 'other_aid',\n",
       "       'infrastructure_related', 'transport', 'buildings', 'electricity',\n",
       "       'tools', 'hospitals', 'shops', 'aid_centers', 'other_infrastructure',\n",
       "       'weather_related', 'floods', 'storm', 'fire', 'earthquake', 'cold',\n",
       "       'other_weather', 'direct_report'],\n",
       "      dtype='object')"
      ]
     },
     "execution_count": 102,
     "metadata": {},
     "output_type": "execute_result"
    }
   ],
   "source": [
    "df.columns"
   ]
  },
  {
   "cell_type": "code",
   "execution_count": 103,
   "metadata": {},
   "outputs": [],
   "source": [
    "in_columns = 'message'\n",
    "out_columns = list(df.columns)[4:]"
   ]
  },
  {
   "cell_type": "code",
   "execution_count": 104,
   "metadata": {},
   "outputs": [],
   "source": [
    "text = df[in_columns].values\n",
    "y = df[out_columns].values"
   ]
  },
  {
   "cell_type": "code",
   "execution_count": 105,
   "metadata": {},
   "outputs": [],
   "source": [
    "text_train, text_test, y_train, y_test = train_test_split(text, y, test_size=0.33, random_state=42)"
   ]
  },
  {
   "cell_type": "code",
   "execution_count": 106,
   "metadata": {},
   "outputs": [
    {
     "data": {
      "text/plain": [
       "array([[1, 0, 0, ..., 0, 1, 0],\n",
       "       [1, 1, 0, ..., 0, 0, 1],\n",
       "       [1, 0, 0, ..., 0, 0, 0],\n",
       "       ...,\n",
       "       [1, 1, 0, ..., 0, 0, 1],\n",
       "       [1, 0, 0, ..., 0, 0, 0],\n",
       "       [1, 0, 0, ..., 0, 0, 0]])"
      ]
     },
     "execution_count": 106,
     "metadata": {},
     "output_type": "execute_result"
    }
   ],
   "source": [
    "y_train"
   ]
  },
  {
   "cell_type": "code",
   "execution_count": 107,
   "metadata": {},
   "outputs": [
    {
     "data": {
      "text/plain": [
       "35"
      ]
     },
     "execution_count": 107,
     "metadata": {},
     "output_type": "execute_result"
    }
   ],
   "source": [
    "len(out_columns)"
   ]
  },
  {
   "cell_type": "markdown",
   "metadata": {},
   "source": [
    "### 2. Write a tokenization function to process your text data"
   ]
  },
  {
   "cell_type": "code",
   "execution_count": 9,
   "metadata": {},
   "outputs": [],
   "source": [
    "import spacy\n",
    "en_nlp = spacy.load('en')"
   ]
  },
  {
   "cell_type": "code",
   "execution_count": 10,
   "metadata": {},
   "outputs": [],
   "source": [
    "stopwords = spacy.lang.en.stop_words.STOP_WORDS"
   ]
  },
  {
   "cell_type": "code",
   "execution_count": 11,
   "metadata": {},
   "outputs": [],
   "source": [
    "from nltk.stem.snowball import SnowballStemmer\n",
    "stemmer = SnowballStemmer('english')"
   ]
  },
  {
   "cell_type": "code",
   "execution_count": 12,
   "metadata": {},
   "outputs": [],
   "source": [
    "# https://realpython.com/natural-language-processing-spacy-python/ was helpful here\n",
    "def tokenize(text):\n",
    "    doc = en_nlp(text)\n",
    "    lemmas = [token.lemma_ for token in doc if token not in stopwords and not token.is_punct]\n",
    "    stems = [stemmer.stem(lemma) for lemma in lemmas]\n",
    "    return stems"
   ]
  },
  {
   "cell_type": "markdown",
   "metadata": {},
   "source": [
    "### 3. Build a machine learning pipeline\n",
    "This machine pipeline should take in the `message` column as input and output classification results on the other 36 categories in the dataset. You may find the [MultiOutputClassifier](http://scikit-learn.org/stable/modules/generated/sklearn.multioutput.MultiOutputClassifier.html) helpful for predicting multiple target variables."
   ]
  },
  {
   "cell_type": "code",
   "execution_count": 16,
   "metadata": {},
   "outputs": [],
   "source": [
    "from sklearn.feature_extraction.text import TfidfVectorizer\n",
    "from sklearn.multioutput import MultiOutputClassifier\n",
    "from sklearn.pipeline import make_pipeline"
   ]
  },
  {
   "cell_type": "code",
   "execution_count": 108,
   "metadata": {},
   "outputs": [],
   "source": [
    "# model = make_pipeline(TfidfVectorizer(tokenizer=tokenize, min_df=5), \n",
    "#                      MultiOutputClassifier(estimator=\n",
    "#                                            LinearSVC(C=1.0, dual=False, multi_class='ovr', fit_intercept=True, \n",
    "#                                                      max_iter=100)))"
   ]
  },
  {
   "cell_type": "markdown",
   "metadata": {},
   "source": [
    "### 3b. Split pipeline into stages"
   ]
  },
  {
   "cell_type": "code",
   "execution_count": 115,
   "metadata": {},
   "outputs": [],
   "source": [
    "vect = TfidfVectorizer(tokenizer=tokenize, min_df=5)"
   ]
  },
  {
   "cell_type": "code",
   "execution_count": 116,
   "metadata": {},
   "outputs": [],
   "source": [
    "clf = MultiOutputClassifier(estimator=\n",
    "                            LinearSVC(C=1.0, dual=False, multi_class='ovr', fit_intercept=True, \n",
    "                                      max_iter=100))"
   ]
  },
  {
   "cell_type": "code",
   "execution_count": 117,
   "metadata": {},
   "outputs": [],
   "source": [
    "model = make_pipeline(vect, clf)"
   ]
  },
  {
   "cell_type": "code",
   "execution_count": 118,
   "metadata": {},
   "outputs": [
    {
     "data": {
      "text/plain": [
       "<bound method Pipeline.get_params of Pipeline(steps=[('tfidfvectorizer',\n",
       "                 TfidfVectorizer(min_df=5,\n",
       "                                 tokenizer=<function tokenize at 0x12b374700>)),\n",
       "                ('multioutputclassifier',\n",
       "                 MultiOutputClassifier(estimator=LinearSVC(dual=False,\n",
       "                                                           max_iter=100)))])>"
      ]
     },
     "execution_count": 118,
     "metadata": {},
     "output_type": "execute_result"
    }
   ],
   "source": [
    "model.get_params"
   ]
  },
  {
   "cell_type": "markdown",
   "metadata": {},
   "source": [
    "### 4. Train pipeline\n",
    "- Split data into train and test sets\n",
    "- Train pipeline"
   ]
  },
  {
   "cell_type": "code",
   "execution_count": 82,
   "metadata": {},
   "outputs": [
    {
     "name": "stdout",
     "output_type": "stream",
     "text": [
      "CPU times: user 3min 22s, sys: 2.66 s, total: 3min 25s\n",
      "Wall time: 3min 28s\n"
     ]
    },
    {
     "data": {
      "text/plain": [
       "Pipeline(steps=[('tfidfvectorizer',\n",
       "                 TfidfVectorizer(min_df=5,\n",
       "                                 tokenizer=<function tokenize at 0x12b374700>)),\n",
       "                ('multioutputclassifier',\n",
       "                 MultiOutputClassifier(estimator=LinearSVC(dual=False,\n",
       "                                                           max_iter=100)))])"
      ]
     },
     "execution_count": 82,
     "metadata": {},
     "output_type": "execute_result"
    }
   ],
   "source": [
    "%%time\n",
    "pipe.fit(text_train, y_train)"
   ]
  },
  {
   "cell_type": "code",
   "execution_count": 83,
   "metadata": {},
   "outputs": [
    {
     "data": {
      "text/plain": [
       "0.5131519016169438"
      ]
     },
     "execution_count": 83,
     "metadata": {},
     "output_type": "execute_result"
    }
   ],
   "source": [
    "# compute rigged score\n",
    "pipe.score(text_train, y_train)"
   ]
  },
  {
   "cell_type": "code",
   "execution_count": 84,
   "metadata": {},
   "outputs": [
    {
     "data": {
      "text/plain": [
       "0.29079981507165975"
      ]
     },
     "execution_count": 84,
     "metadata": {},
     "output_type": "execute_result"
    }
   ],
   "source": [
    "# compute real score\n",
    "pipe.score(text_test, y_test)"
   ]
  },
  {
   "cell_type": "markdown",
   "metadata": {},
   "source": [
    "Crud.  It's overfit.  Is there a way to weaken the LinearSVC model?"
   ]
  },
  {
   "cell_type": "markdown",
   "metadata": {},
   "source": [
    "### 5. Test your model\n",
    "Report the f1 score, precision and recall for each output category of the dataset. You can do this by iterating through the columns and calling sklearn's `classification_report` on each."
   ]
  },
  {
   "cell_type": "code",
   "execution_count": 85,
   "metadata": {},
   "outputs": [],
   "source": [
    "from sklearn.metrics import classification_report"
   ]
  },
  {
   "cell_type": "code",
   "execution_count": 86,
   "metadata": {},
   "outputs": [
    {
     "name": "stdout",
     "output_type": "stream",
     "text": [
      "CPU times: user 1min 35s, sys: 1.39 s, total: 1min 36s\n",
      "Wall time: 1min 43s\n"
     ]
    }
   ],
   "source": [
    "%%time\n",
    "y_pred = pipe.predict(text_test)"
   ]
  },
  {
   "cell_type": "code",
   "execution_count": 90,
   "metadata": {},
   "outputs": [
    {
     "data": {
      "text/plain": [
       "36"
      ]
     },
     "execution_count": 90,
     "metadata": {},
     "output_type": "execute_result"
    }
   ],
   "source": [
    "len(out_columns)"
   ]
  },
  {
   "cell_type": "code",
   "execution_count": 97,
   "metadata": {},
   "outputs": [
    {
     "name": "stdout",
     "output_type": "stream",
     "text": [
      "                        precision    recall  f1-score   support\n",
      "\n",
      "               related       0.86      0.90      0.88      6598\n",
      "               request       0.78      0.60      0.68      1472\n",
      "                 offer       1.00      0.00      0.00        38\n",
      "           aid_related       0.73      0.68      0.70      3545\n",
      "          medical_help       0.57      0.28      0.38       701\n",
      "      medical_products       0.67      0.28      0.39       446\n",
      "     search_and_rescue       0.76      0.14      0.23       226\n",
      "              security       0.50      0.02      0.04       160\n",
      "              military       0.61      0.31      0.41       267\n",
      "                 water       0.74      0.57      0.64       543\n",
      "                  food       0.82      0.68      0.74       965\n",
      "               shelter       0.75      0.58      0.65       775\n",
      "              clothing       0.67      0.29      0.41       127\n",
      "                 money       0.53      0.26      0.35       191\n",
      "        missing_people       0.79      0.11      0.19       104\n",
      "              refugees       0.65      0.24      0.35       293\n",
      "                 death       0.76      0.41      0.54       406\n",
      "             other_aid       0.49      0.21      0.29      1139\n",
      "infrastructure_related       0.41      0.10      0.15       568\n",
      "             transport       0.65      0.17      0.27       407\n",
      "             buildings       0.70      0.37      0.48       441\n",
      "           electricity       0.59      0.21      0.31       185\n",
      "                 tools       1.00      0.00      0.00        53\n",
      "             hospitals       0.67      0.05      0.09        85\n",
      "                 shops       1.00      0.00      0.00        34\n",
      "           aid_centers       0.25      0.02      0.03       115\n",
      "  other_infrastructure       0.39      0.07      0.12       383\n",
      "       weather_related       0.81      0.71      0.76      2390\n",
      "                floods       0.86      0.57      0.68       693\n",
      "                 storm       0.73      0.58      0.64       812\n",
      "                  fire       0.70      0.21      0.32        90\n",
      "            earthquake       0.88      0.75      0.81       787\n",
      "                  cold       0.77      0.34      0.47       187\n",
      "         other_weather       0.46      0.13      0.21       452\n",
      "         direct_report       0.70      0.51      0.59      1694\n",
      "\n",
      "             micro avg       0.78      0.59      0.67     27372\n",
      "             macro avg       0.69      0.32      0.39     27372\n",
      "          weighted avg       0.74      0.59      0.64     27372\n",
      "           samples avg       0.79      0.74      0.62     27372\n",
      "\n"
     ]
    }
   ],
   "source": [
    "print(classification_report(y_test, y_pred, target_names=out_columns, zero_division=1))"
   ]
  },
  {
   "cell_type": "code",
   "execution_count": null,
   "metadata": {},
   "outputs": [],
   "source": [
    "y_test.shape"
   ]
  },
  {
   "cell_type": "code",
   "execution_count": null,
   "metadata": {},
   "outputs": [],
   "source": [
    "for i in range(y_test.shape[1]):\n",
    "    print(cat_col_names[i])\n",
    "    print(classification_report(y_test[:,i], y_pred[:,i], zero_division=1))"
   ]
  },
  {
   "cell_type": "markdown",
   "metadata": {},
   "source": [
    "https://stackoverflow.com/questions/38697982/python-scikit-learn-multi-class-multi-label-performance-metrics"
   ]
  },
  {
   "cell_type": "code",
   "execution_count": 75,
   "metadata": {},
   "outputs": [],
   "source": [
    "from sklearn.metrics import precision_score\n",
    "from sklearn.metrics import recall_score\n",
    "from sklearn.metrics import f1_score\n",
    "\n",
    "def genTable(true, pred, zero_division='warn'):\n",
    "    table = np.empty(shape=(true.shape[1], 3))\n",
    "    for i in range(true.shape[1]):\n",
    "        table[i] = [precision_score(true[:,i], pred[:,i], zero_division=zero_division), \\\n",
    "                      recall_score(true[:,i], pred[:,i], zero_division=zero_division), \\\n",
    "                      f1_score(true[:,i], pred[:,i], zero_division=zero_division)]\n",
    "    return table\n",
    "\n",
    "def printScores(labels, true, pred, zero_division='warn'):\n",
    "    results = genTable(true, pred, zero_division=zero_division)\n",
    "    print(\"{0:>20}\".format(''), 'prec', 'recall', 'f1', sep='\\t')\n",
    "    for i in range(results.shape[0]):\n",
    "        print(\"{0:>20}\".format(labels[i]), '%.2f' % results[i, 0], '%.2f' % results[i,1], '%.2f' % results[i,2], sep = '\\t')"
   ]
  },
  {
   "cell_type": "code",
   "execution_count": 77,
   "metadata": {},
   "outputs": [],
   "source": [
    "#printScores(out_columns, y_test, y_pred, zero_division=0)"
   ]
  },
  {
   "cell_type": "markdown",
   "metadata": {},
   "source": [
    "### 6. Improve your model"
   ]
  },
  {
   "cell_type": "markdown",
   "metadata": {},
   "source": [
    "####  Let's split the `Vectorizer` out of the pipeline, precompute it on the training and test sets, and write the results to disk. \n",
    "Parameter searching is a slow business and we want to speed things up as much as we can."
   ]
  },
  {
   "cell_type": "code",
   "execution_count": null,
   "metadata": {},
   "outputs": [],
   "source": [
    "# vect = TfidfVectorizer(tokenizer=tokenize, min_df=5)"
   ]
  },
  {
   "cell_type": "code",
   "execution_count": null,
   "metadata": {},
   "outputs": [],
   "source": [
    "# %%time\n",
    "# # Pre-calculate X_train and X_test for testing the categorization pipeline - takes 5 minutes to calculate\n",
    "# X_train1 = vect.fit_transform(text_train)\n",
    "# X_test1 = vect.transform(text_test)"
   ]
  },
  {
   "cell_type": "code",
   "execution_count": null,
   "metadata": {},
   "outputs": [],
   "source": [
    "# X_train1.shape"
   ]
  },
  {
   "cell_type": "code",
   "execution_count": 18,
   "metadata": {},
   "outputs": [],
   "source": [
    "# https://stackoverflow.com/questions/52444921/save-numpy-array-using-pickle\n",
    "import pickle as pkl"
   ]
  },
  {
   "cell_type": "code",
   "execution_count": null,
   "metadata": {},
   "outputs": [],
   "source": [
    "# fileObject = open('severedPipelineXtrain.pkl', 'wb')\n",
    "# pkl.dump(X_train1, fileObject)\n",
    "# fileObject.close()\n",
    "\n",
    "# fileObject = open('severedPipelineXtest.pkl', 'wb')\n",
    "# pkl.dump(X_test1, fileObject)\n",
    "# fileObject.close()"
   ]
  },
  {
   "cell_type": "code",
   "execution_count": 19,
   "metadata": {},
   "outputs": [],
   "source": [
    "fileObject = open('severedPipelineXtrain.pkl', 'rb')\n",
    "X_train = pkl.load(fileObject)\n",
    "fileObject.close()\n",
    "\n",
    "fileObject = open('severedPipelineXtest.pkl', 'rb')\n",
    "X_test = pkl.load(fileObject)\n",
    "fileObject.close()"
   ]
  },
  {
   "cell_type": "code",
   "execution_count": 20,
   "metadata": {},
   "outputs": [
    {
     "data": {
      "text/plain": [
       "scipy.sparse.csr.csr_matrix"
      ]
     },
     "execution_count": 20,
     "metadata": {},
     "output_type": "execute_result"
    }
   ],
   "source": [
    "type(X_train)"
   ]
  },
  {
   "cell_type": "code",
   "execution_count": 21,
   "metadata": {},
   "outputs": [
    {
     "data": {
      "text/plain": [
       "(17564, 4859)"
      ]
     },
     "execution_count": 21,
     "metadata": {},
     "output_type": "execute_result"
    }
   ],
   "source": [
    "X_train.shape"
   ]
  },
  {
   "cell_type": "code",
   "execution_count": 39,
   "metadata": {},
   "outputs": [
    {
     "data": {
      "text/plain": [
       "0.0"
      ]
     },
     "execution_count": 39,
     "metadata": {},
     "output_type": "execute_result"
    }
   ],
   "source": [
    "X_train[0,3826]"
   ]
  },
  {
   "cell_type": "code",
   "execution_count": 22,
   "metadata": {},
   "outputs": [
    {
     "data": {
      "text/plain": [
       "(8652, 4859)"
      ]
     },
     "execution_count": 22,
     "metadata": {},
     "output_type": "execute_result"
    }
   ],
   "source": [
    "X_test.shape"
   ]
  },
  {
   "cell_type": "markdown",
   "metadata": {},
   "source": [
    "#### Alright.  Back to work.  Let's actually evaluate this classifier-only pipeline."
   ]
  },
  {
   "cell_type": "code",
   "execution_count": null,
   "metadata": {},
   "outputs": [],
   "source": [
    "from sklearn.ensemble import AdaBoostClassifier\n",
    "from sklearn.neighbors import KNeighborsClassifier"
   ]
  },
  {
   "cell_type": "code",
   "execution_count": null,
   "metadata": {},
   "outputs": [],
   "source": [
    "pipe = make_pipeline(MultiOutputClassifier(estimator=\n",
    "                                           RandomForestClassifier(n_jobs=-1)))\n",
    "#                                           AdaBoostClassifier()))\n",
    "#                                           LogisticRegression(C=3, max_iter=30, warm_start=True, n_jobs=-1)))\n",
    "#                                           KNeighborsClassifier(n_jobs=-1)))"
   ]
  },
  {
   "cell_type": "markdown",
   "metadata": {},
   "source": [
    "LR doesn't work here because of the empty 'child_alone' feature."
   ]
  },
  {
   "cell_type": "code",
   "execution_count": null,
   "metadata": {},
   "outputs": [],
   "source": [
    "%%time\n",
    "pipe.fit(X_train, y_train)"
   ]
  },
  {
   "cell_type": "code",
   "execution_count": null,
   "metadata": {},
   "outputs": [],
   "source": [
    "print(pipe.score(X_test, y_test))\n",
    "print(pipe.score(X_train, y_train))"
   ]
  },
  {
   "cell_type": "markdown",
   "metadata": {},
   "source": [
    "At least it's not overfitting with `AdaBoostClassifier`, like it does with `RandomForestClassifier` (0.256, 0.995)."
   ]
  },
  {
   "cell_type": "markdown",
   "metadata": {},
   "source": [
    "With KNeighbors we get (0.233, 0.264) but it took 16 minutes to compute the two scores; but less than a second to fit."
   ]
  },
  {
   "cell_type": "code",
   "execution_count": null,
   "metadata": {},
   "outputs": [],
   "source": [
    "%%time\n",
    "y_pred = pipe.predict(X_test)"
   ]
  },
  {
   "cell_type": "markdown",
   "metadata": {},
   "source": [
    "Took 5 mins with KNeighbors.  5 secs with RandomForest."
   ]
  },
  {
   "cell_type": "code",
   "execution_count": null,
   "metadata": {},
   "outputs": [],
   "source": [
    "from sklearn.metrics import classification_report"
   ]
  },
  {
   "cell_type": "code",
   "execution_count": null,
   "metadata": {},
   "outputs": [],
   "source": [
    "print(classification_report(y_test, y_pred, target_names=out_columns, zero_division=1))"
   ]
  },
  {
   "cell_type": "markdown",
   "metadata": {},
   "source": [
    "Wow!  RandomForest is a lot better than KNeighbors, but still awful."
   ]
  },
  {
   "cell_type": "code",
   "execution_count": null,
   "metadata": {},
   "outputs": [],
   "source": [
    "printScores(cat_col_names, y_test, y_pred, zero_division=0)"
   ]
  },
  {
   "cell_type": "markdown",
   "metadata": {},
   "source": [
    "#### Let's do some parameter searching..."
   ]
  },
  {
   "cell_type": "markdown",
   "metadata": {},
   "source": [
    "Use grid search to find better parameters. "
   ]
  },
  {
   "cell_type": "code",
   "execution_count": 13,
   "metadata": {},
   "outputs": [],
   "source": [
    "#from sklearn.linear_model import LogisticRegression\n",
    "#from sklearn.tree import DecisionTreeClassifier\n",
    "#from sklearn.ensemble import AdaBoostClassifier\n",
    "#from sklearn.ensemble import RandomForestClassifier\n",
    "from sklearn.svm import LinearSVC"
   ]
  },
  {
   "cell_type": "code",
   "execution_count": 24,
   "metadata": {},
   "outputs": [],
   "source": [
    "pipe = make_pipeline(MultiOutputClassifier(estimator=\n",
    "                                            LinearSVC(C=1.0, dual=False, multi_class='ovr', fit_intercept=True, \n",
    "                                                      max_iter=100)))\n",
    "#                                           RandomForestClassifier(n_jobs=-1)))  # This takes almost 11 minutes\n",
    "#                                            AdaBoostClassifier(base_estimator=\n",
    "#                                                               DecisionTreeClassifier(max_depth=1),\n",
    "#                                                n_estimators=10, learning_rate=1))) # 1 minute\n",
    "#                                           LogisticRegression(C=3, max_iter=30, warm_start=True))) \n",
    "#                                                              solver='saga', penalty='elasticnet')))\n",
    "                                                              # class_weight='balanced')))"
   ]
  },
  {
   "cell_type": "code",
   "execution_count": 47,
   "metadata": {},
   "outputs": [
    {
     "data": {
      "text/plain": [
       "Pipeline(steps=[('multioutputclassifier',\n",
       "                 MultiOutputClassifier(estimator=LinearSVC(dual=False,\n",
       "                                                           max_iter=100)))])"
      ]
     },
     "execution_count": 47,
     "metadata": {},
     "output_type": "execute_result"
    }
   ],
   "source": [
    "pipe.fit(X_train, y_train)"
   ]
  },
  {
   "cell_type": "code",
   "execution_count": 27,
   "metadata": {},
   "outputs": [],
   "source": [
    "from sklearn.model_selection import GridSearchCV"
   ]
  },
  {
   "cell_type": "code",
   "execution_count": 55,
   "metadata": {},
   "outputs": [],
   "source": [
    "# param_grid = {}\n",
    "# param_grid = {'multioutputclassifier__estimator__n_estimators': [10, 30, 100]} \n",
    "# param_grid = {'multioutputclassifier__estimator__learning_rate': [0.3, 1.0, 3.0]}\n",
    "# param_grid = {'multioutputclassifier__estimator__C': [3.0, 10.0, 30.0]}\n",
    "# param_grid = {'multioutputclassifier__estimator__l1_ratio': [0.1, 0.3, 0.7, 1.0]}\n",
    "# param_grid = {'multioutputclassifier__estimator__base_estimator__min_samples_split': [2, 4, 8, 16]}\n",
    "# param_grid = {'multioutputclassifier__estimator__base_estimator__min_samples_leaf': [1, 2, 4, 8]}\n",
    "# param_grid = {'multioutputclassifier__estimator__base_estimator__max_depth': [1, 2, 4, 8]}\n",
    "# param_grid = {'multioutputclassifier__estimator__C': [0.3, 1.0, 3.0, 10.0]}\n",
    "param_grid = {'multioutputclassifier__estimator__C': [0.01, 0.03, 0.1, 0.3]}"
   ]
  },
  {
   "cell_type": "code",
   "execution_count": 56,
   "metadata": {},
   "outputs": [],
   "source": [
    "grid = GridSearchCV(estimator=pipe, param_grid=param_grid, cv=5, n_jobs=-1)"
   ]
  },
  {
   "cell_type": "code",
   "execution_count": 57,
   "metadata": {},
   "outputs": [
    {
     "name": "stdout",
     "output_type": "stream",
     "text": [
      "CPU times: user 6.03 s, sys: 126 ms, total: 6.16 s\n",
      "Wall time: 32 s\n"
     ]
    },
    {
     "data": {
      "text/plain": [
       "GridSearchCV(cv=5,\n",
       "             estimator=Pipeline(steps=[('multioutputclassifier',\n",
       "                                        MultiOutputClassifier(estimator=LinearSVC(dual=False,\n",
       "                                                                                  max_iter=100)))]),\n",
       "             n_jobs=-1,\n",
       "             param_grid={'multioutputclassifier__estimator__C': [0.01, 0.03,\n",
       "                                                                 0.1, 0.3]})"
      ]
     },
     "execution_count": 57,
     "metadata": {},
     "output_type": "execute_result"
    }
   ],
   "source": [
    "%%time\n",
    "grid.fit(X_train, y_train)"
   ]
  },
  {
   "cell_type": "markdown",
   "metadata": {},
   "source": [
    "With Ada(RandomForest) fit() ran 53 minutes before I stopped it."
   ]
  },
  {
   "cell_type": "markdown",
   "metadata": {},
   "source": [
    "25min for miniscule benefit - LR with saga not worth pursuing.  (Although the highest score fit (l1_ratio = 0.7) was only 1/3 the duration of the most expensive.  Could be because of the warm_start setting.)"
   ]
  },
  {
   "cell_type": "markdown",
   "metadata": {},
   "source": [
    "For the DecisionTreeClassifier, the default value of `min_samples_split` of 2 is the best, but the effect is very weak. [2,4,8,16]"
   ]
  },
  {
   "cell_type": "markdown",
   "metadata": {},
   "source": [
    "Equilvalently, for DTC, the default value of `min_samples_leaf` was best, and varying it made no difference. [1,2,4,8]"
   ]
  },
  {
   "cell_type": "code",
   "execution_count": 58,
   "metadata": {},
   "outputs": [
    {
     "data": {
      "text/plain": [
       "{'multioutputclassifier__estimator__C': 0.3}"
      ]
     },
     "execution_count": 58,
     "metadata": {},
     "output_type": "execute_result"
    }
   ],
   "source": [
    "grid.best_params_"
   ]
  },
  {
   "cell_type": "code",
   "execution_count": 59,
   "metadata": {},
   "outputs": [
    {
     "data": {
      "text/plain": [
       "0.30044484949167005"
      ]
     },
     "execution_count": 59,
     "metadata": {},
     "output_type": "execute_result"
    }
   ],
   "source": [
    "grid.best_score_"
   ]
  },
  {
   "cell_type": "code",
   "execution_count": 60,
   "metadata": {},
   "outputs": [
    {
     "data": {
      "text/plain": [
       "0.3036292186777624"
      ]
     },
     "execution_count": 60,
     "metadata": {},
     "output_type": "execute_result"
    }
   ],
   "source": [
    "grid.score(X_test, y_test)"
   ]
  },
  {
   "cell_type": "code",
   "execution_count": 61,
   "metadata": {},
   "outputs": [
    {
     "data": {
      "text/plain": [
       "{'mean_fit_time': array([3.26463957, 4.26961055, 6.34450097, 7.92812238]),\n",
       " 'std_fit_time': array([0.02928138, 0.25343928, 0.09593142, 0.68719226]),\n",
       " 'mean_score_time': array([0.03549929, 0.05012698, 0.06139317, 0.0368516 ]),\n",
       " 'std_score_time': array([0.00848184, 0.01286576, 0.01678532, 0.01692735]),\n",
       " 'param_multioutputclassifier__estimator__C': masked_array(data=[0.01, 0.03, 0.1, 0.3],\n",
       "              mask=[False, False, False, False],\n",
       "        fill_value='?',\n",
       "             dtype=object),\n",
       " 'params': [{'multioutputclassifier__estimator__C': 0.01},\n",
       "  {'multioutputclassifier__estimator__C': 0.03},\n",
       "  {'multioutputclassifier__estimator__C': 0.1},\n",
       "  {'multioutputclassifier__estimator__C': 0.3}],\n",
       " 'split0_test_score': array([0.21605465, 0.24793624, 0.27384002, 0.29461998]),\n",
       " 'split1_test_score': array([0.18758896, 0.22658696, 0.28010248, 0.30429832]),\n",
       " 'split2_test_score': array([0.20922289, 0.24366638, 0.27554796, 0.29177341]),\n",
       " 'split3_test_score': array([0.20210646, 0.23939653, 0.27839453, 0.29775121]),\n",
       " 'split4_test_score': array([0.22437358, 0.2642369 , 0.30637813, 0.31378132]),\n",
       " 'mean_test_score': array([0.20786931, 0.2443646 , 0.28285263, 0.30044485]),\n",
       " 'std_test_score': array([0.01253576, 0.01223829, 0.01196221, 0.00786243]),\n",
       " 'rank_test_score': array([4, 3, 2, 1], dtype=int32)}"
      ]
     },
     "execution_count": 61,
     "metadata": {},
     "output_type": "execute_result"
    }
   ],
   "source": [
    "grid.cv_results_"
   ]
  },
  {
   "cell_type": "markdown",
   "metadata": {},
   "source": [
    "DecisionTreeClassifier achieved (0.243, 0.238) with max_depth=2.  Grid search took 7 minutes.  Both min_samples_split and min_samples_leaf were negligable."
   ]
  },
  {
   "cell_type": "code",
   "execution_count": 62,
   "metadata": {},
   "outputs": [],
   "source": [
    "y_pred = grid.best_estimator_.predict(X_test)"
   ]
  },
  {
   "cell_type": "code",
   "execution_count": 68,
   "metadata": {},
   "outputs": [],
   "source": [
    "y_pred = grid.predict(X_test)"
   ]
  },
  {
   "cell_type": "code",
   "execution_count": null,
   "metadata": {},
   "outputs": [],
   "source": [
    "# DecisionTreeClassifier base_estimator\n",
    "parameters = {'min_samples_leaf': [1], 'min_samples_split': [2], 'max_depth': [2]}\n",
    "\n",
    "# AdaBoostClassifier estimator: I also tried varying 'n_estimators' and 'learning_rate'.\n",
    "# This had minimal impact so I chose speed over optimization.\n",
    "\n",
    "cv = 0.243\n",
    "\n"
   ]
  },
  {
   "cell_type": "markdown",
   "metadata": {},
   "source": [
    "### 7. Test your model\n",
    "Show the accuracy, precision, and recall of the tuned model.  \n",
    "\n",
    "Since this project focuses on code quality, process, and  pipelines, there is no minimum performance metric needed to pass. However, make sure to fine tune your models for accuracy, precision and recall to make your project stand out - especially for your portfolio!"
   ]
  },
  {
   "cell_type": "code",
   "execution_count": 98,
   "metadata": {},
   "outputs": [
    {
     "name": "stdout",
     "output_type": "stream",
     "text": [
      "                    \tprec\trecall\tf1\n",
      "             related\t0.86\t0.90\t0.88\n",
      "             request\t0.78\t0.60\t0.68\n",
      "               offer\t0.00\t0.00\t0.00\n",
      "         aid_related\t0.73\t0.68\t0.70\n",
      "        medical_help\t0.57\t0.28\t0.38\n",
      "    medical_products\t0.67\t0.28\t0.39\n",
      "   search_and_rescue\t0.76\t0.14\t0.23\n",
      "            security\t0.50\t0.02\t0.04\n",
      "            military\t0.61\t0.31\t0.41\n",
      "               water\t0.74\t0.57\t0.64\n",
      "                food\t0.82\t0.68\t0.74\n",
      "             shelter\t0.75\t0.58\t0.65\n",
      "            clothing\t0.67\t0.29\t0.41\n",
      "               money\t0.53\t0.26\t0.35\n",
      "      missing_people\t0.79\t0.11\t0.19\n",
      "            refugees\t0.65\t0.24\t0.35\n",
      "               death\t0.76\t0.41\t0.54\n",
      "           other_aid\t0.49\t0.21\t0.29\n",
      "infrastructure_related\t0.41\t0.10\t0.15\n",
      "           transport\t0.65\t0.17\t0.27\n",
      "           buildings\t0.70\t0.37\t0.48\n",
      "         electricity\t0.59\t0.21\t0.31\n",
      "               tools\t0.00\t0.00\t0.00\n",
      "           hospitals\t0.67\t0.05\t0.09\n",
      "               shops\t0.00\t0.00\t0.00\n",
      "         aid_centers\t0.25\t0.02\t0.03\n",
      "other_infrastructure\t0.39\t0.07\t0.12\n",
      "     weather_related\t0.81\t0.71\t0.76\n",
      "              floods\t0.86\t0.57\t0.68\n",
      "               storm\t0.73\t0.58\t0.64\n",
      "                fire\t0.70\t0.21\t0.32\n",
      "          earthquake\t0.88\t0.75\t0.81\n",
      "                cold\t0.77\t0.34\t0.47\n",
      "       other_weather\t0.46\t0.13\t0.21\n",
      "       direct_report\t0.70\t0.51\t0.59\n"
     ]
    }
   ],
   "source": [
    "printScores(out_columns, y_test, y_pred, zero_division=0)"
   ]
  },
  {
   "cell_type": "markdown",
   "metadata": {},
   "source": [
    "### 8. Try improving your model further. Here are a few ideas:\n",
    "* try other machine learning algorithms\n",
    "* add other features besides the TF-IDF"
   ]
  },
  {
   "cell_type": "markdown",
   "metadata": {},
   "source": [
    "#### See above.  I've already tested many things including various algorithms."
   ]
  },
  {
   "cell_type": "markdown",
   "metadata": {},
   "source": [
    "### 9. Export your model as a pickle file"
   ]
  },
  {
   "cell_type": "markdown",
   "metadata": {},
   "source": [
    "#### Reassemble the full model:"
   ]
  },
  {
   "cell_type": "code",
   "execution_count": null,
   "metadata": {},
   "outputs": [],
   "source": [
    "pipe = make_pipeline(TfidfVectorizer(tokenizer=tokenize, min_df=5), \n",
    "                     MultiOutputClassifier(estimator=\n",
    "                                           AdaBoostClassifier(base_estimator=\n",
    "                                                              DecisionTreeClassifier(max_depth=2),\n",
    "                                                                n_estimators=10, learning_rate=1)))"
   ]
  },
  {
   "cell_type": "code",
   "execution_count": null,
   "metadata": {},
   "outputs": [],
   "source": [
    "%%time\n",
    "pipe.fit(text_train, y_train)"
   ]
  },
  {
   "cell_type": "markdown",
   "metadata": {},
   "source": [
    "And, finally, export the model."
   ]
  },
  {
   "cell_type": "code",
   "execution_count": null,
   "metadata": {},
   "outputs": [],
   "source": [
    "import pickle as pkl"
   ]
  },
  {
   "cell_type": "code",
   "execution_count": null,
   "metadata": {},
   "outputs": [],
   "source": [
    "# Much niftier way of handling filehandles.\n",
    "with open('AdaDecision.pkl', 'wb') as f:\n",
    "    pkl.dump(pipe, f)"
   ]
  },
  {
   "cell_type": "markdown",
   "metadata": {},
   "source": [
    "### 10. Use this notebook to complete `train.py`\n",
    "Use the template file attached in the Resources folder to write a script that runs the steps above to create a database and export a model based on a new dataset specified by the user."
   ]
  },
  {
   "cell_type": "code",
   "execution_count": null,
   "metadata": {},
   "outputs": [],
   "source": []
  }
 ],
 "metadata": {
  "kernelspec": {
   "display_name": "Python 3",
   "language": "python",
   "name": "python3"
  },
  "language_info": {
   "codemirror_mode": {
    "name": "ipython",
    "version": 3
   },
   "file_extension": ".py",
   "mimetype": "text/x-python",
   "name": "python",
   "nbconvert_exporter": "python",
   "pygments_lexer": "ipython3",
   "version": "3.8.5"
  }
 },
 "nbformat": 4,
 "nbformat_minor": 2
}
