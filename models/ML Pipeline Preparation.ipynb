{
 "cells": [
  {
   "cell_type": "markdown",
   "metadata": {},
   "source": [
    "# ML Pipeline Preparation\n",
    "Follow the instructions below to help you create your ML pipeline.\n",
    "### 1. Import libraries and load data from database.\n",
    "- Import Python libraries\n",
    "- Load dataset from database with [`read_sql_table`](https://pandas.pydata.org/pandas-docs/stable/generated/pandas.read_sql_table.html)\n",
    "- Define feature and target variables X and Y"
   ]
  },
  {
   "cell_type": "code",
   "execution_count": 1,
   "metadata": {},
   "outputs": [],
   "source": [
    "# import libraries\n",
    "import pandas as pd\n",
    "import numpy as np\n",
    "import sqlalchemy as sqal\n",
    "from sklearn.model_selection import train_test_split"
   ]
  },
  {
   "cell_type": "code",
   "execution_count": null,
   "metadata": {},
   "outputs": [],
   "source": [
    "# in_columns = 'message'\n",
    "# cat_col_names = ['related', 'request', 'offer', 'aid_related', 'medical_help', 'medical_products', 'search_and_rescue', 'security', 'military', 'child_alone', 'water', 'food', 'shelter', 'clothing', 'money', 'missing_people', 'refugees', 'death', 'other_aid', 'infrastructure_related', 'transport', 'buildings', 'electricity', 'tools', 'hospitals', 'shops', 'aid_centers', 'other_infrastructure', 'weather_related', 'floods', 'storm', 'fire', 'earthquake', 'cold', 'other_weather', 'direct_report']"
   ]
  },
  {
   "cell_type": "code",
   "execution_count": 2,
   "metadata": {},
   "outputs": [],
   "source": [
    "# load data from database\n",
    "engine = sqal.create_engine('sqlite:///../data/DisasterResponse.db')\n",
    "# inspector = sqal.inspect(engine)\n",
    "# inspector.get_schema_names()  # -> ['main']\n",
    "# inspector.get_table_names(schema='main')  # -> ['Message']\n",
    "# inspector.get_columns('Message', schema='main')   # -> the goods\n",
    "\n",
    "df = pd.read_sql_table('MessageCategorization', engine)"
   ]
  },
  {
   "cell_type": "code",
   "execution_count": 3,
   "metadata": {},
   "outputs": [],
   "source": [
    "# correct outlying values in `related` column\n",
    "df['related'] = np.clip(df['related'], 0, 1)"
   ]
  },
  {
   "cell_type": "code",
   "execution_count": 4,
   "metadata": {},
   "outputs": [],
   "source": [
    "df = df.drop('child_alone', axis=1)"
   ]
  },
  {
   "cell_type": "code",
   "execution_count": null,
   "metadata": {},
   "outputs": [],
   "source": [
    "df.columns"
   ]
  },
  {
   "cell_type": "code",
   "execution_count": 5,
   "metadata": {},
   "outputs": [],
   "source": [
    "in_columns = 'message'\n",
    "out_columns = list(df.columns)[4:]"
   ]
  },
  {
   "cell_type": "code",
   "execution_count": 6,
   "metadata": {},
   "outputs": [],
   "source": [
    "text = df[in_columns].values\n",
    "y = df[out_columns].values"
   ]
  },
  {
   "cell_type": "code",
   "execution_count": 7,
   "metadata": {},
   "outputs": [],
   "source": [
    "text_train, text_test, y_train, y_test = train_test_split(text, y, test_size=0.33, random_state=42)"
   ]
  },
  {
   "cell_type": "code",
   "execution_count": null,
   "metadata": {},
   "outputs": [],
   "source": [
    "y_train"
   ]
  },
  {
   "cell_type": "code",
   "execution_count": 8,
   "metadata": {},
   "outputs": [
    {
     "data": {
      "text/plain": [
       "35"
      ]
     },
     "execution_count": 8,
     "metadata": {},
     "output_type": "execute_result"
    }
   ],
   "source": [
    "len(out_columns)"
   ]
  },
  {
   "cell_type": "markdown",
   "metadata": {},
   "source": [
    "### 2. Write a tokenization function to process your text data"
   ]
  },
  {
   "cell_type": "code",
   "execution_count": 9,
   "metadata": {},
   "outputs": [],
   "source": [
    "import spacy\n",
    "en_nlp = spacy.load('en')"
   ]
  },
  {
   "cell_type": "code",
   "execution_count": 10,
   "metadata": {},
   "outputs": [],
   "source": [
    "stopwords = spacy.lang.en.stop_words.STOP_WORDS"
   ]
  },
  {
   "cell_type": "code",
   "execution_count": 11,
   "metadata": {},
   "outputs": [],
   "source": [
    "from nltk.stem.snowball import SnowballStemmer\n",
    "stemmer = SnowballStemmer('english')"
   ]
  },
  {
   "cell_type": "code",
   "execution_count": 12,
   "metadata": {},
   "outputs": [],
   "source": [
    "# https://realpython.com/natural-language-processing-spacy-python/ was helpful here\n",
    "def tokenize(text):\n",
    "    doc = en_nlp(text)\n",
    "    lemmas = [token.lemma_ for token in doc if token not in stopwords and not token.is_punct]\n",
    "    stems = [stemmer.stem(lemma) for lemma in lemmas]\n",
    "    return stems"
   ]
  },
  {
   "cell_type": "markdown",
   "metadata": {},
   "source": [
    "### 3. Build a machine learning pipeline\n",
    "This machine pipeline should take in the `message` column as input and output classification results on the other 36 categories in the dataset. You may find the [MultiOutputClassifier](http://scikit-learn.org/stable/modules/generated/sklearn.multioutput.MultiOutputClassifier.html) helpful for predicting multiple target variables."
   ]
  },
  {
   "cell_type": "code",
   "execution_count": 13,
   "metadata": {},
   "outputs": [],
   "source": [
    "from sklearn.feature_extraction.text import TfidfVectorizer\n",
    "from sklearn.multioutput import MultiOutputClassifier\n",
    "from sklearn.svm import LinearSVC\n",
    "from sklearn.pipeline import make_pipeline"
   ]
  },
  {
   "cell_type": "markdown",
   "metadata": {},
   "source": [
    "##### All the different classifiers I have tried:"
   ]
  },
  {
   "cell_type": "code",
   "execution_count": null,
   "metadata": {},
   "outputs": [],
   "source": [
    "#from sklearn.linear_model import LogisticRegression\n",
    "#from sklearn.tree import DecisionTreeClassifier\n",
    "#from sklearn.ensemble import AdaBoostClassifier\n",
    "#from sklearn.ensemble import RandomForestClassifier\n",
    "#from sklearn.svm import LinearSVC"
   ]
  },
  {
   "cell_type": "code",
   "execution_count": null,
   "metadata": {},
   "outputs": [],
   "source": [
    "# model = make_pipeline(TfidfVectorizer(tokenizer=tokenize, min_df=5), \n",
    "#                      MultiOutputClassifier(estimator=\n",
    "#                                            LinearSVC(C=1.0, dual=False, multi_class='ovr', fit_intercept=True, \n",
    "#                                                      max_iter=100)))"
   ]
  },
  {
   "cell_type": "markdown",
   "metadata": {},
   "source": [
    "### 3b. Split pipeline into stages"
   ]
  },
  {
   "cell_type": "code",
   "execution_count": 68,
   "metadata": {},
   "outputs": [],
   "source": [
    "vect = TfidfVectorizer(tokenizer=tokenize, min_df=10, max_df=0.9)"
   ]
  },
  {
   "cell_type": "code",
   "execution_count": 45,
   "metadata": {},
   "outputs": [],
   "source": [
    "clf = MultiOutputClassifier(estimator=\n",
    "                            LinearSVC(C=0.3, dual=False, multi_class='ovr', fit_intercept=True, \n",
    "                                      max_iter=100))"
   ]
  },
  {
   "cell_type": "code",
   "execution_count": 46,
   "metadata": {},
   "outputs": [],
   "source": [
    "model = make_pipeline(vect, clf)"
   ]
  },
  {
   "cell_type": "code",
   "execution_count": 47,
   "metadata": {},
   "outputs": [
    {
     "data": {
      "text/plain": [
       "<bound method Pipeline.get_params of Pipeline(steps=[('tfidfvectorizer',\n",
       "                 TfidfVectorizer(max_df=0.9, min_df=5,\n",
       "                                 tokenizer=<function tokenize at 0x126a97700>)),\n",
       "                ('multioutputclassifier',\n",
       "                 MultiOutputClassifier(estimator=LinearSVC(C=0.3, dual=False,\n",
       "                                                           max_iter=100)))])>"
      ]
     },
     "execution_count": 47,
     "metadata": {},
     "output_type": "execute_result"
    }
   ],
   "source": [
    "model.get_params"
   ]
  },
  {
   "cell_type": "markdown",
   "metadata": {},
   "source": [
    "### 4. Train pipeline\n",
    "- Split data into train and test sets\n",
    "- Train pipeline"
   ]
  },
  {
   "cell_type": "markdown",
   "metadata": {},
   "source": [
    "####  Let's split the `Vectorizer` out of the pipeline, precompute it on the training and test sets, and write the results to disk. \n",
    "Parameter searching is going to be a slow business and we want to speed things up as much as we can."
   ]
  },
  {
   "cell_type": "markdown",
   "metadata": {},
   "source": [
    "#### 4a. Train `vect` part of pipeline and cache results"
   ]
  },
  {
   "cell_type": "code",
   "execution_count": 48,
   "metadata": {},
   "outputs": [
    {
     "name": "stdout",
     "output_type": "stream",
     "text": [
      "CPU times: user 3min 6s, sys: 2.42 s, total: 3min 9s\n",
      "Wall time: 3min 17s\n"
     ]
    }
   ],
   "source": [
    "%%time\n",
    "X_train = vect.fit_transform(text_train)"
   ]
  },
  {
   "cell_type": "code",
   "execution_count": 49,
   "metadata": {},
   "outputs": [
    {
     "name": "stdout",
     "output_type": "stream",
     "text": [
      "CPU times: user 1min 42s, sys: 1.64 s, total: 1min 44s\n",
      "Wall time: 2min 1s\n"
     ]
    }
   ],
   "source": [
    "%%time\n",
    "X_test = vect.transform(text_test)"
   ]
  },
  {
   "cell_type": "code",
   "execution_count": 22,
   "metadata": {},
   "outputs": [],
   "source": [
    "# https://stackoverflow.com/questions/52444921/save-numpy-array-using-pickle\n",
    "import pickle as pkl"
   ]
  },
  {
   "cell_type": "code",
   "execution_count": 50,
   "metadata": {},
   "outputs": [],
   "source": [
    "with open('severedPipelineXtrain.pkl', 'wb') as f:\n",
    "    pkl.dump(X_train, f)\n",
    "\n",
    "with open('severedPipelineXtest.pkl', 'wb') as f:\n",
    "    pkl.dump(X_test, f)"
   ]
  },
  {
   "cell_type": "markdown",
   "metadata": {},
   "source": [
    "#### 4b. Train `clf` part of pipeline"
   ]
  },
  {
   "cell_type": "code",
   "execution_count": 51,
   "metadata": {},
   "outputs": [
    {
     "name": "stdout",
     "output_type": "stream",
     "text": [
      "CPU times: user 6.86 s, sys: 140 ms, total: 7 s\n",
      "Wall time: 6.58 s\n"
     ]
    },
    {
     "data": {
      "text/plain": [
       "MultiOutputClassifier(estimator=LinearSVC(C=0.3, dual=False, max_iter=100))"
      ]
     },
     "execution_count": 51,
     "metadata": {},
     "output_type": "execute_result"
    }
   ],
   "source": [
    "%%time\n",
    "clf.fit(X_train, y_train)"
   ]
  },
  {
   "cell_type": "markdown",
   "metadata": {},
   "source": [
    "### 5. Test your model\n",
    "Report the f1 score, precision and recall for each output category of the dataset. You can do this by iterating through the columns and calling sklearn's `classification_report` on each."
   ]
  },
  {
   "cell_type": "code",
   "execution_count": 56,
   "metadata": {},
   "outputs": [
    {
     "name": "stdout",
     "output_type": "stream",
     "text": [
      "CPU times: user 29.6 ms, sys: 5.94 ms, total: 35.6 ms\n",
      "Wall time: 37.7 ms\n"
     ]
    }
   ],
   "source": [
    "%%time\n",
    "y_pred = clf.predict(X_test)"
   ]
  },
  {
   "cell_type": "markdown",
   "metadata": {},
   "source": [
    "#### 5b. Generate basic classification report"
   ]
  },
  {
   "cell_type": "code",
   "execution_count": null,
   "metadata": {},
   "outputs": [],
   "source": [
    "from sklearn.metrics import classification_report"
   ]
  },
  {
   "cell_type": "code",
   "execution_count": null,
   "metadata": {},
   "outputs": [],
   "source": [
    "print(classification_report(y_test, y_pred, target_names=out_columns, zero_division=1))"
   ]
  },
  {
   "cell_type": "markdown",
   "metadata": {},
   "source": [
    "#### 5c. Metrics by category"
   ]
  },
  {
   "cell_type": "markdown",
   "metadata": {},
   "source": [
    "https://stackoverflow.com/questions/38697982/python-scikit-learn-multi-class-multi-label-performance-metrics"
   ]
  },
  {
   "cell_type": "code",
   "execution_count": 72,
   "metadata": {},
   "outputs": [],
   "source": [
    "from sklearn.metrics import precision_score\n",
    "from sklearn.metrics import recall_score\n",
    "from sklearn.metrics import f1_score\n",
    "\n",
    "def genTable(true, pred, zero_division='warn'):\n",
    "    table = np.empty(shape=(true.shape[1], 3))\n",
    "    for i in range(true.shape[1]):\n",
    "        table[i] = [precision_score(true[:,i], pred[:,i], zero_division=zero_division), \\\n",
    "                      recall_score(true[:,i], pred[:,i], zero_division=zero_division), \\\n",
    "                      f1_score(true[:,i], pred[:,i], zero_division=zero_division)]\n",
    "    return table\n",
    "\n",
    "def printScores(labels, true, pred, zero_division='warn'):\n",
    "    results = genTable(true, pred, zero_division=zero_division)\n",
    "    print(\"{0:>20}\".format(''), 'prec', 'recall', 'f1', sep='\\t')\n",
    "    for i in range(results.shape[0]):\n",
    "        print(\"{0:>20}\".format(labels[i]), '%.2f' % results[i, 0], '%.2f' % results[i,1], '%.2f' % results[i,2], sep = '\\t')"
   ]
  },
  {
   "cell_type": "code",
   "execution_count": null,
   "metadata": {},
   "outputs": [],
   "source": [
    "printScores(out_columns, y_test, y_pred, zero_division=0)"
   ]
  },
  {
   "cell_type": "markdown",
   "metadata": {},
   "source": [
    "### 6. Improve your model"
   ]
  },
  {
   "cell_type": "markdown",
   "metadata": {},
   "source": [
    "#### Read back `X_train` and `X_test` from cache if necessary."
   ]
  },
  {
   "cell_type": "code",
   "execution_count": null,
   "metadata": {},
   "outputs": [],
   "source": [
    "# with open('severedPipelineXtrain.pkl', 'rb') as f:\n",
    "#     X_train = pkl.load(f)\n",
    "\n",
    "# with open('severedPipelineXtest.pkl', 'rb') as f:\n",
    "#     X_test = pkl.load(f)\n"
   ]
  },
  {
   "cell_type": "markdown",
   "metadata": {},
   "source": [
    "~~LR doesn't work here because of the empty 'child_alone' feature.~~  I've eliminated the 'child_alone' category because I want to use the LinearSVC estimator which cannot tolerate a category with only one class."
   ]
  },
  {
   "cell_type": "code",
   "execution_count": 57,
   "metadata": {},
   "outputs": [
    {
     "name": "stdout",
     "output_type": "stream",
     "text": [
      "0.3036292186777624\n",
      "0.4251309496697791\n"
     ]
    }
   ],
   "source": [
    "print(clf.score(X_test, y_test))\n",
    "print(clf.score(X_train, y_train))"
   ]
  },
  {
   "cell_type": "markdown",
   "metadata": {},
   "source": [
    "Overfits like crazy with `RandomForestClassifier` (0.256, 0.995).  `AdaBoostClassifier` doesn't overfit at all, but it doesn't fit well either.  `LinearSVC` (0.291, 0.513) is somewhere in the middle, not least because it is remarkably fast."
   ]
  },
  {
   "cell_type": "markdown",
   "metadata": {},
   "source": [
    "With KNeighbors we get (0.233, 0.264) but it took 16 minutes to compute the two scores; but less than a second to fit."
   ]
  },
  {
   "cell_type": "code",
   "execution_count": null,
   "metadata": {},
   "outputs": [],
   "source": [
    "%%time\n",
    "y_pred = clf.predict(X_test)"
   ]
  },
  {
   "cell_type": "markdown",
   "metadata": {},
   "source": [
    "Took 5 mins with KNeighbors.  5 secs with RandomForest.  40 msecs with LinearSVC."
   ]
  },
  {
   "cell_type": "markdown",
   "metadata": {},
   "source": [
    "Wow!  RandomForest is a lot better than KNeighbors, but still awful."
   ]
  },
  {
   "cell_type": "code",
   "execution_count": null,
   "metadata": {},
   "outputs": [],
   "source": [
    "printScores(out_columns, y_test, y_pred, zero_division=0)"
   ]
  },
  {
   "cell_type": "markdown",
   "metadata": {},
   "source": [
    "#### Let's do some parameter searching..."
   ]
  },
  {
   "cell_type": "markdown",
   "metadata": {},
   "source": [
    "Use grid search to find better parameters. "
   ]
  },
  {
   "cell_type": "code",
   "execution_count": 26,
   "metadata": {},
   "outputs": [],
   "source": [
    "from sklearn.model_selection import GridSearchCV"
   ]
  },
  {
   "cell_type": "code",
   "execution_count": null,
   "metadata": {},
   "outputs": [],
   "source": [
    "# param_grid = {}\n",
    "# param_grid = {'multioutputclassifier__estimator__n_estimators': [10, 30, 100]} \n",
    "# param_grid = {'multioutputclassifier__estimator__learning_rate': [0.3, 1.0, 3.0]}\n",
    "# param_grid = {'multioutputclassifier__estimator__C': [3.0, 10.0, 30.0]}\n",
    "# param_grid = {'multioutputclassifier__estimator__l1_ratio': [0.1, 0.3, 0.7, 1.0]}\n",
    "# param_grid = {'multioutputclassifier__estimator__base_estimator__min_samples_split': [2, 4, 8, 16]}\n",
    "# param_grid = {'multioutputclassifier__estimator__base_estimator__min_samples_leaf': [1, 2, 4, 8]}\n",
    "# param_grid = {'multioutputclassifier__estimator__base_estimator__max_depth': [1, 2, 4, 8]}\n",
    "# param_grid = {'multioutputclassifier__estimator__C': [0.3, 1.0, 3.0, 10.0]}\n",
    "param_grid = {'estimator__C': [0.01, 0.03, 0.1, 0.3]}"
   ]
  },
  {
   "cell_type": "code",
   "execution_count": null,
   "metadata": {},
   "outputs": [],
   "source": [
    "grid = GridSearchCV(estimator=clf, param_grid=param_grid, cv=5, n_jobs=-1)"
   ]
  },
  {
   "cell_type": "code",
   "execution_count": null,
   "metadata": {},
   "outputs": [],
   "source": [
    "%%time\n",
    "grid.fit(X_train, y_train)"
   ]
  },
  {
   "cell_type": "markdown",
   "metadata": {},
   "source": [
    "With Ada(RandomForest) fit() ran 53 minutes before I stopped it."
   ]
  },
  {
   "cell_type": "markdown",
   "metadata": {},
   "source": [
    "25min for miniscule benefit - LR with saga not worth pursuing.  (Although the highest score fit (l1_ratio = 0.7) was only 1/3 the duration of the most expensive.  Could be because of the warm_start setting.)"
   ]
  },
  {
   "cell_type": "markdown",
   "metadata": {},
   "source": [
    "For the DecisionTreeClassifier, the default value of `min_samples_split` of 2 is the best, but the effect is very weak. [2,4,8,16]"
   ]
  },
  {
   "cell_type": "markdown",
   "metadata": {},
   "source": [
    "Equilvalently, for DTC, the default value of `min_samples_leaf` was best, and varying it made no difference. [1,2,4,8]"
   ]
  },
  {
   "cell_type": "code",
   "execution_count": null,
   "metadata": {},
   "outputs": [],
   "source": [
    "grid.best_params_"
   ]
  },
  {
   "cell_type": "code",
   "execution_count": null,
   "metadata": {},
   "outputs": [],
   "source": [
    "grid.best_score_"
   ]
  },
  {
   "cell_type": "code",
   "execution_count": null,
   "metadata": {},
   "outputs": [],
   "source": [
    "grid.score(X_test, y_test)"
   ]
  },
  {
   "cell_type": "code",
   "execution_count": null,
   "metadata": {},
   "outputs": [],
   "source": [
    "grid.cv_results_"
   ]
  },
  {
   "cell_type": "markdown",
   "metadata": {},
   "source": [
    "DecisionTreeClassifier achieved (0.243, 0.238) with max_depth=2.  Grid search took 7 minutes.  Both min_samples_split and min_samples_leaf were negligable."
   ]
  },
  {
   "cell_type": "code",
   "execution_count": null,
   "metadata": {},
   "outputs": [],
   "source": [
    "# DecisionTreeClassifier base_estimator\n",
    "parameters = {'min_samples_leaf': [1], 'min_samples_split': [2], 'max_depth': [2]}\n",
    "\n",
    "# AdaBoostClassifier estimator: I also tried varying 'n_estimators' and 'learning_rate'.\n",
    "# This had minimal impact so I chose speed over optimization.\n",
    "\n",
    "cv = 0.243"
   ]
  },
  {
   "cell_type": "markdown",
   "metadata": {},
   "source": [
    "#### 2nd Search - Search the `max_df` parameter of TfidfVectorizer"
   ]
  },
  {
   "cell_type": "code",
   "execution_count": 20,
   "metadata": {},
   "outputs": [],
   "source": [
    "param_grid = {'tfidfvectorizer__max_df': [0.05, 0.15, 0.5, 0.9]}"
   ]
  },
  {
   "cell_type": "code",
   "execution_count": 27,
   "metadata": {},
   "outputs": [],
   "source": [
    "grid = GridSearchCV(estimator=model, param_grid=param_grid, cv=5, n_jobs=-1)"
   ]
  },
  {
   "cell_type": "code",
   "execution_count": 28,
   "metadata": {},
   "outputs": [
    {
     "data": {
      "text/plain": [
       "GridSearchCV(cv=5,\n",
       "             estimator=Pipeline(steps=[('tfidfvectorizer',\n",
       "                                        TfidfVectorizer(min_df=5,\n",
       "                                                        tokenizer=<function tokenize at 0x126a97700>)),\n",
       "                                       ('multioutputclassifier',\n",
       "                                        MultiOutputClassifier(estimator=LinearSVC(dual=False,\n",
       "                                                                                  max_iter=100)))]),\n",
       "             n_jobs=-1,\n",
       "             param_grid={'tfidfvectorizer__max_df': [0.05, 0.15, 0.5, 0.9]})"
      ]
     },
     "execution_count": 28,
     "metadata": {},
     "output_type": "execute_result"
    }
   ],
   "source": [
    "grid.fit(text_train, y_train)"
   ]
  },
  {
   "cell_type": "code",
   "execution_count": 29,
   "metadata": {},
   "outputs": [
    {
     "data": {
      "text/plain": [
       "{'tfidfvectorizer__max_df': 0.9}"
      ]
     },
     "execution_count": 29,
     "metadata": {},
     "output_type": "execute_result"
    }
   ],
   "source": [
    "grid.best_params_"
   ]
  },
  {
   "cell_type": "code",
   "execution_count": 30,
   "metadata": {},
   "outputs": [
    {
     "data": {
      "text/plain": [
       "0.5131519016169438"
      ]
     },
     "execution_count": 30,
     "metadata": {},
     "output_type": "execute_result"
    }
   ],
   "source": [
    "grid.score(text_train, y_train)"
   ]
  },
  {
   "cell_type": "code",
   "execution_count": 31,
   "metadata": {},
   "outputs": [
    {
     "data": {
      "text/plain": [
       "0.29079981507165975"
      ]
     },
     "execution_count": 31,
     "metadata": {},
     "output_type": "execute_result"
    }
   ],
   "source": [
    "grid.score(text_test, y_test)"
   ]
  },
  {
   "cell_type": "markdown",
   "metadata": {},
   "source": [
    "`max_df = 0.9` is the optimum from `param_grid={'tfidfvectorizer__max_df': [0.05, 0.15, 0.5, 0.9]}`, the effect is weak.  Also scores are essentially identical to a `max_df = 1.0` (the default)."
   ]
  },
  {
   "cell_type": "code",
   "execution_count": 38,
   "metadata": {},
   "outputs": [
    {
     "data": {
      "text/plain": [
       "0.29079981507165975"
      ]
     },
     "execution_count": 38,
     "metadata": {},
     "output_type": "execute_result"
    }
   ],
   "source": [
    "grid.best_estimator_.score(text_test, y_test)"
   ]
  },
  {
   "cell_type": "code",
   "execution_count": 43,
   "metadata": {},
   "outputs": [
    {
     "data": {
      "text/plain": [
       "{'mean_fit_time': array([486.29917293, 492.92513208, 522.97795906, 573.71289635]),\n",
       " 'std_fit_time': array([ 1.92541612,  7.39908239, 14.69122228, 18.43770947]),\n",
       " 'mean_score_time': array([135.71755548, 121.20715437, 133.15373459, 141.16505623]),\n",
       " 'std_score_time': array([ 7.27665139,  3.39284754, 13.89354277,  2.16106197]),\n",
       " 'param_tfidfvectorizer__max_df': masked_array(data=[0.05, 0.15, 0.5, 0.9],\n",
       "              mask=[False, False, False, False],\n",
       "        fill_value='?',\n",
       "             dtype=object),\n",
       " 'params': [{'tfidfvectorizer__max_df': 0.05},\n",
       "  {'tfidfvectorizer__max_df': 0.15},\n",
       "  {'tfidfvectorizer__max_df': 0.5},\n",
       "  {'tfidfvectorizer__max_df': 0.9}],\n",
       " 'split0_test_score': array([0.24708227, 0.27924851, 0.27953316, 0.28038713]),\n",
       " 'split1_test_score': array([0.24110447, 0.27839453, 0.28294905, 0.28636493]),\n",
       " 'split2_test_score': array([0.23711927, 0.27156277, 0.27554796, 0.27640194]),\n",
       " 'split3_test_score': array([0.2422431 , 0.28152576, 0.28380302, 0.28551096]),\n",
       " 'split4_test_score': array([0.24487472, 0.2844533 , 0.29157175, 0.29356492]),\n",
       " 'mean_test_score': array([0.24248476, 0.27903697, 0.28268099, 0.28444598]),\n",
       " 'std_test_score': array([0.00339414, 0.00428607, 0.00531348, 0.0058164 ]),\n",
       " 'rank_test_score': array([4, 3, 2, 1], dtype=int32)}"
      ]
     },
     "execution_count": 43,
     "metadata": {},
     "output_type": "execute_result"
    }
   ],
   "source": [
    "# searchMaxDF1 = grid.cv_results_\n",
    "searchMaxDF1"
   ]
  },
  {
   "cell_type": "markdown",
   "metadata": {},
   "source": [
    "#### 3rd Search - Search the `min_df` parameter of TfidfVectorizer"
   ]
  },
  {
   "cell_type": "code",
   "execution_count": 58,
   "metadata": {},
   "outputs": [],
   "source": [
    "param_grid = {'tfidfvectorizer__min_df': [0, 10, 100, 1000]}"
   ]
  },
  {
   "cell_type": "code",
   "execution_count": 59,
   "metadata": {},
   "outputs": [],
   "source": [
    "grid = GridSearchCV(estimator=model, param_grid=param_grid, cv=5, n_jobs=-1)"
   ]
  },
  {
   "cell_type": "code",
   "execution_count": 63,
   "metadata": {},
   "outputs": [
    {
     "name": "stdout",
     "output_type": "stream",
     "text": [
      "CPU times: user 4min 1s, sys: 12 s, total: 4min 13s\n",
      "Wall time: 1h 33min 51s\n"
     ]
    },
    {
     "data": {
      "text/plain": [
       "GridSearchCV(cv=5,\n",
       "             estimator=Pipeline(steps=[('tfidfvectorizer',\n",
       "                                        TfidfVectorizer(max_df=0.9, min_df=5,\n",
       "                                                        tokenizer=<function tokenize at 0x126a97700>)),\n",
       "                                       ('multioutputclassifier',\n",
       "                                        MultiOutputClassifier(estimator=LinearSVC(C=0.3,\n",
       "                                                                                  dual=False,\n",
       "                                                                                  max_iter=100)))]),\n",
       "             n_jobs=-1,\n",
       "             param_grid={'tfidfvectorizer__min_df': [0, 10, 100, 1000]})"
      ]
     },
     "execution_count": 63,
     "metadata": {},
     "output_type": "execute_result"
    }
   ],
   "source": [
    "%%time\n",
    "grid.fit(text_train, y_train)"
   ]
  },
  {
   "cell_type": "code",
   "execution_count": 65,
   "metadata": {},
   "outputs": [
    {
     "data": {
      "text/plain": [
       "{'tfidfvectorizer__min_df': 10}"
      ]
     },
     "execution_count": 65,
     "metadata": {},
     "output_type": "execute_result"
    }
   ],
   "source": [
    "grid.best_params_"
   ]
  },
  {
   "cell_type": "code",
   "execution_count": 66,
   "metadata": {},
   "outputs": [
    {
     "data": {
      "text/plain": [
       "0.30397595931576515"
      ]
     },
     "execution_count": 66,
     "metadata": {},
     "output_type": "execute_result"
    }
   ],
   "source": [
    "grid.best_estimator_.score(text_test, y_test)"
   ]
  },
  {
   "cell_type": "code",
   "execution_count": 67,
   "metadata": {},
   "outputs": [
    {
     "data": {
      "text/plain": [
       "0.4077089501252562"
      ]
     },
     "execution_count": 67,
     "metadata": {},
     "output_type": "execute_result"
    }
   ],
   "source": [
    "grid.best_estimator_.score(text_train, y_train)"
   ]
  },
  {
   "cell_type": "markdown",
   "metadata": {},
   "source": [
    "`min_df = 10` (0.304, 0.408) is the optimum from `param_grid={'tfidfvectorizer__min_df': [0, 10, 100, 1000]}`, the effect is weak.  Also scores are essentially identical to a `min_df = 5` (which is what I had been using).  But the much greater bonus is that it is substantially less overfit than `min_df = 5`."
   ]
  },
  {
   "cell_type": "code",
   "execution_count": 64,
   "metadata": {},
   "outputs": [
    {
     "data": {
      "text/plain": [
       "{'mean_fit_time': array([1271.98800311, 1209.59642248,  556.84740205,  508.78599076]),\n",
       " 'std_fit_time': array([179.48348679, 501.73591504,  34.43251834,   9.24423802]),\n",
       " 'mean_score_time': array([271.20112629, 161.15882235, 137.53943315, 126.95968289]),\n",
       " 'std_score_time': array([51.55942949, 10.89371152, 12.544004  ,  5.46936935]),\n",
       " 'param_tfidfvectorizer__min_df': masked_array(data=[0, 10, 100, 1000],\n",
       "              mask=[False, False, False, False],\n",
       "        fill_value='?',\n",
       "             dtype=object),\n",
       " 'params': [{'tfidfvectorizer__min_df': 0},\n",
       "  {'tfidfvectorizer__min_df': 10},\n",
       "  {'tfidfvectorizer__min_df': 100},\n",
       "  {'tfidfvectorizer__min_df': 1000}],\n",
       " 'split0_test_score': array([0.28807287, 0.29803587, 0.28294905, 0.18303444]),\n",
       " 'split1_test_score': array([0.30059778, 0.30515229, 0.2872189 , 0.16054654]),\n",
       " 'split2_test_score': array([0.29205807, 0.29291204, 0.27754056, 0.1833191 ]),\n",
       " 'split3_test_score': array([0.29348135, 0.2971819 , 0.28095645, 0.17335611]),\n",
       " 'split4_test_score': array([0.31178815, 0.31463554, 0.30438497, 0.19447608]),\n",
       " 'mean_test_score': array([0.29719965, 0.30158353, 0.28660998, 0.17894645]),\n",
       " 'std_test_score': array([0.00834184, 0.007619  , 0.00942274, 0.01137374]),\n",
       " 'rank_test_score': array([2, 1, 3, 4], dtype=int32)}"
      ]
     },
     "execution_count": 64,
     "metadata": {},
     "output_type": "execute_result"
    }
   ],
   "source": [
    "searchMinDF1 = grid.cv_results_\n",
    "searchMinDF1"
   ]
  },
  {
   "cell_type": "markdown",
   "metadata": {},
   "source": [
    "### 7. Test your model\n",
    "Show the accuracy, precision, and recall of the tuned model.  \n",
    "\n",
    "Since this project focuses on code quality, process, and  pipelines, there is no minimum performance metric needed to pass. However, make sure to fine tune your models for accuracy, precision and recall to make your project stand out - especially for your portfolio!"
   ]
  },
  {
   "cell_type": "code",
   "execution_count": 70,
   "metadata": {},
   "outputs": [
    {
     "name": "stdout",
     "output_type": "stream",
     "text": [
      "CPU times: user 1min 43s, sys: 1.51 s, total: 1min 44s\n",
      "Wall time: 1min 54s\n"
     ]
    }
   ],
   "source": [
    "%%time\n",
    "y_pred = model.predict(text_test)"
   ]
  },
  {
   "cell_type": "code",
   "execution_count": 73,
   "metadata": {},
   "outputs": [
    {
     "name": "stdout",
     "output_type": "stream",
     "text": [
      "                    \tprec\trecall\tf1\n",
      "             related\t0.85\t0.93\t0.89\n",
      "             request\t0.82\t0.58\t0.68\n",
      "               offer\t0.00\t0.00\t0.00\n",
      "         aid_related\t0.75\t0.67\t0.71\n",
      "        medical_help\t0.62\t0.24\t0.34\n",
      "    medical_products\t0.70\t0.21\t0.32\n",
      "   search_and_rescue\t0.77\t0.09\t0.16\n",
      "            security\t0.00\t0.00\t0.00\n",
      "            military\t0.66\t0.24\t0.35\n",
      "               water\t0.76\t0.53\t0.62\n",
      "                food\t0.84\t0.67\t0.75\n",
      "             shelter\t0.80\t0.53\t0.64\n",
      "            clothing\t0.71\t0.29\t0.41\n",
      "               money\t0.66\t0.18\t0.29\n",
      "      missing_people\t0.75\t0.03\t0.06\n",
      "            refugees\t0.67\t0.15\t0.25\n",
      "               death\t0.80\t0.36\t0.49\n",
      "           other_aid\t0.60\t0.14\t0.23\n",
      "infrastructure_related\t0.62\t0.05\t0.09\n",
      "           transport\t0.76\t0.12\t0.20\n",
      "           buildings\t0.79\t0.28\t0.42\n",
      "         electricity\t0.69\t0.16\t0.26\n",
      "               tools\t0.00\t0.00\t0.00\n",
      "           hospitals\t1.00\t0.02\t0.05\n",
      "               shops\t0.00\t0.00\t0.00\n",
      "         aid_centers\t1.00\t0.01\t0.02\n",
      "other_infrastructure\t0.61\t0.03\t0.05\n",
      "     weather_related\t0.84\t0.69\t0.76\n",
      "              floods\t0.89\t0.55\t0.67\n",
      "               storm\t0.75\t0.54\t0.63\n",
      "                fire\t0.64\t0.10\t0.17\n",
      "          earthquake\t0.88\t0.75\t0.81\n",
      "                cold\t0.83\t0.28\t0.42\n",
      "       other_weather\t0.55\t0.10\t0.17\n",
      "       direct_report\t0.76\t0.49\t0.59\n",
      "CPU times: user 404 ms, sys: 15.4 ms, total: 420 ms\n",
      "Wall time: 448 ms\n"
     ]
    }
   ],
   "source": [
    "%%time\n",
    "printScores(out_columns, y_test, y_pred, zero_division=0)"
   ]
  },
  {
   "cell_type": "markdown",
   "metadata": {},
   "source": [
    "### 8. Try improving your model further. Here are a few ideas:\n",
    "* try other machine learning algorithms\n",
    "* add other features besides the TF-IDF"
   ]
  },
  {
   "cell_type": "markdown",
   "metadata": {},
   "source": [
    "#### See above.  I've already tested many things including various algorithms."
   ]
  },
  {
   "cell_type": "markdown",
   "metadata": {},
   "source": [
    "### 9. Export your model as a pickle file"
   ]
  },
  {
   "cell_type": "code",
   "execution_count": 61,
   "metadata": {},
   "outputs": [],
   "source": [
    "import pickle as pkl"
   ]
  },
  {
   "cell_type": "code",
   "execution_count": 74,
   "metadata": {},
   "outputs": [],
   "source": [
    "# Much niftier way of handling filehandles.\n",
    "with open('classifier.pkl', 'wb') as f:\n",
    "    pkl.dump(model, f)"
   ]
  },
  {
   "cell_type": "markdown",
   "metadata": {},
   "source": [
    "### 10. Use this notebook to complete `train.py`\n",
    "Use the template file attached in the Resources folder to write a script that runs the steps above to create a database and export a model based on a new dataset specified by the user."
   ]
  },
  {
   "cell_type": "code",
   "execution_count": null,
   "metadata": {},
   "outputs": [],
   "source": []
  }
 ],
 "metadata": {
  "kernelspec": {
   "display_name": "Python 3",
   "language": "python",
   "name": "python3"
  },
  "language_info": {
   "codemirror_mode": {
    "name": "ipython",
    "version": 3
   },
   "file_extension": ".py",
   "mimetype": "text/x-python",
   "name": "python",
   "nbconvert_exporter": "python",
   "pygments_lexer": "ipython3",
   "version": "3.8.5"
  }
 },
 "nbformat": 4,
 "nbformat_minor": 2
}
